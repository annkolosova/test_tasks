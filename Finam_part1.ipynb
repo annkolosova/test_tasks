{
 "cells": [
  {
   "cell_type": "markdown",
   "id": "4505ae5c",
   "metadata": {},
   "source": [
    "# **Анализ фрейма продукта «Стратегия» на предмет аномалий**"
   ]
  },
  {
   "cell_type": "markdown",
   "id": "fdcf491e",
   "metadata": {},
   "source": [
    "## **Импорт библиотек, загрузка функций, чтение файла**"
   ]
  },
  {
   "cell_type": "code",
   "execution_count": 1,
   "id": "96c24e5f",
   "metadata": {},
   "outputs": [],
   "source": [
    "import pandas as pd\n",
    "import numpy as np\n",
    "import json\n",
    "import seaborn as sns\n",
    "import matplotlib.pyplot as plt\n",
    "from dateutil import relativedelta"
   ]
  },
  {
   "cell_type": "code",
   "execution_count": 2,
   "id": "83d1a9a2",
   "metadata": {},
   "outputs": [],
   "source": [
    "sns.set()"
   ]
  },
  {
   "cell_type": "code",
   "execution_count": 3,
   "id": "8cae6ace",
   "metadata": {},
   "outputs": [],
   "source": [
    "# Функция для исследовательского анализа данных (общая информация, пропуски, дубликаты + анализ данных по столбцам)\n",
    "def df_eda(df):\n",
    "  class color:\n",
    "    BLUE = '\\033[94m'\n",
    "    BOLD = '\\033[1m'\n",
    "    END = '\\033[0m'\n",
    "  \n",
    "  def tbl_dict_base(df, col):\n",
    "    tbl_dict = {}\n",
    "    tbl_dict['valid'] = (~df[col].isnull()).sum()\n",
    "    tbl_dict['valid_pct'] = tbl_dict['valid']/len(df)\n",
    "    tbl_dict['missing'] = (df[col].isnull()).sum()\n",
    "    tbl_dict['missing_pct'] = tbl_dict['missing']/len(df)\n",
    "    tbl_dict['unique_values'] = df[col].nunique()\n",
    "    return tbl_dict\n",
    "\n",
    "  def display_table(tbl_dict, subset1=['missing', 'missing_pct'], \\\n",
    "                    subset2=['valid_pct', 'missing_pct']):\n",
    "    tbl_det = pd.DataFrame([tbl_dict])\n",
    "    tbl_det = (\n",
    "        tbl_det.style.applymap(lambda x: 'color:red' if x > 0 else 'color:green', \n",
    "                              subset=subset1)\n",
    "        .format('{:0.2%}', subset=subset2)\n",
    "      )\n",
    "    display(tbl_det)\n",
    "\n",
    "  pd.set_option('display.max_columns', None)\n",
    "  print(color.BOLD + 'General information' + color.END)\n",
    "\n",
    "  display(df.info())\n",
    "  df_duples = df.copy()\n",
    "  print('')\n",
    "  print(color.BOLD + 'Column stats' + color.END)\n",
    "  print('')\n",
    "\n",
    "  missing_cols_cnt = 0\n",
    "  missing_cols_list = []\n",
    "  id_duples = 0\n",
    "  \n",
    "  for col in df.columns:\n",
    "    if df[col].dtype == 'object':\n",
    "      print(color.BLUE + f'{col} - dtype: {df[col].dtype}' + color.END)\n",
    "      tbl_dict = tbl_dict_base(df, col)\n",
    "      try:\n",
    "        df[col] = df[col].str.replace('ё','е')\n",
    "        tbl_dict['case_sensitive_dupl'] = (\n",
    "          df[col].str.lower().duplicated().sum() - df[col].duplicated().sum()\n",
    "        )\n",
    "        if tbl_dict['case_sensitive_dupl'] > 0:\n",
    "          df_duples[col] = df_duples[col].str.lower()\n",
    "        \n",
    "        display_table(tbl_dict, ['missing', 'missing_pct', 'case_sensitive_dupl'])\n",
    "      \n",
    "      except:\n",
    "        print('Dtype check needed')\n",
    "        display_table(tbl_dict)\n",
    "            \n",
    "      if tbl_dict['missing'] > 0:\n",
    "        missing_cols_cnt += 1\n",
    "        missing_cols_list.append(col)\n",
    "\n",
    "      if tbl_dict['unique_values'] > 5:\n",
    "        most_common = df[col].value_counts(normalize=True).reset_index()\n",
    "        most_common.columns=['Most common', col]\n",
    "        most_common['Most common'] = (\n",
    "            most_common['Most common']\n",
    "            .where(most_common['Most common']\n",
    "                  .isin(df[col].value_counts(normalize=True).head(5).index), 'other')\n",
    "        )\n",
    "        most_common = (\n",
    "            most_common.groupby('Most common', sort=False)[col]\n",
    "            .agg('sum').to_frame('')\n",
    "        )\n",
    "\n",
    "      else:\n",
    "        most_common = df[col].value_counts(normalize=True).reset_index()\n",
    "        most_common.columns=['Most common', '']\n",
    "        most_common = most_common.set_index('Most common')\n",
    "      \n",
    "      display(most_common.style.format('{:0.1%}'))\n",
    "      print('')\n",
    "\n",
    "    elif df[col].dtype == 'float' or df[col].dtype == 'int64':\n",
    "      print(color.BLUE + f'{col} - dtype: {df[col].dtype}' + color.END)\n",
    "      tbl_dict = tbl_dict_base(df, col)\n",
    "      tbl_dict['zeros'] = len(df[df[col] == 0])\n",
    "      tbl_dict['negatives'] = len(df[df[col] < 0])\n",
    "      display_table(tbl_dict)\n",
    "\n",
    "      if tbl_dict['missing'] > 0:\n",
    "        missing_cols_cnt += 1\n",
    "        missing_cols_list.append(col)\n",
    "      \n",
    "      if tbl_dict['unique_values'] < 50:\n",
    "        sns.histplot(df[col], bins=tbl_dict['unique_values'])\n",
    "      elif tbl_dict['unique_values'] > 100:\n",
    "        sns.histplot(df[col], bins=50)\n",
    "      else:\n",
    "        sns.histplot(df[col], bins=tbl_dict['unique_values']//2)\n",
    "      plt.show();\n",
    "      tbl_stats = pd.DataFrame({'':[df[col].mean(), df[col].median(), \n",
    "                                   df[col].std(), df[col].min(),\n",
    "                                   df[col].max(), df[col].quantile(0.01),\n",
    "                                   df[col].quantile(0.99)]})\n",
    "      tbl_stats.index = ['mean', 'median', 'std', 'min', 'max', \n",
    "                         '1st quantile', '99th quantile']\n",
    "      display(tbl_stats.style.format('{:.2f}'))\n",
    "      print('')\n",
    "\n",
    "    elif df[col].dtype == 'datetime64[ns]':\n",
    "      print(color.BLUE + f'{col} - dtype: {df[col].dtype}' + color.END)\n",
    "      tbl_dict = tbl_dict_base(df, col)\n",
    "      display_table(tbl_dict)\n",
    "\n",
    "      if tbl_dict['missing'] > 0:\n",
    "        missing_cols_cnt += 1\n",
    "        missing_cols_list.append(col)\n",
    "\n",
    "      if tbl_dict['unique_values'] < 50:\n",
    "        sns.histplot(df[col], bins=tbl_dict['unique_values'])\n",
    "      elif tbl_dict['unique_values'] > 100:\n",
    "        sns.histplot(df[col], bins=50)\n",
    "      else:\n",
    "        sns.histplot(df[col], bins=tbl_dict['unique_values']//2)\n",
    "      plt.xticks(rotation=45)\n",
    "      plt.show();\n",
    "      display(df[col].apply(['min', 'max', 'mean']).to_frame(''))\n",
    "      print('')\n",
    "\n",
    "    elif df[col].dtype == 'bool':\n",
    "      print(color.BLUE + f'{col} - dtype: {df[col].dtype}' + color.END)\n",
    "      tbl_dict = tbl_dict_base(df, col)\n",
    "      display_table(tbl_dict)\n",
    "      display(df[col].value_counts(normalize=True).to_frame('').style.format('{:0.1%}'))\n",
    "      \n",
    "      if tbl_dict['missing'] > 0:\n",
    "        missing_cols_cnt += 1\n",
    "        missing_cols_list.append(col)\n",
    "    \n",
    "    else:\n",
    "      print(color.BLUE + f'{col} - dtype: {df[col].dtype}' + color.END)\n",
    "      print('manual analysis needed')\n",
    "\n",
    "    if col.lower() == 'id' or col.lower() == 'userid' or col.lower() == 'user_id':\n",
    "        id_duples = df[col].duplicated().sum()\n",
    "  \n",
    "  print(color.BLUE + 'EDA brief' + color.END)\n",
    "  print('')\n",
    "  print(f'Rows in dataset: {df.shape[0]}')\n",
    "  print(f'Columns in dataset: {df.shape[1]}')\n",
    "  print(f'Number of columns with missing values: {missing_cols_cnt}')\n",
    "  print('Columns with missing values: ', missing_cols_list)\n",
    "  print('')\n",
    "\n",
    "  print(color.BOLD + 'Duplicates in dataset: ' + color.END)\n",
    "  tbl_dupl = (\n",
    "      pd.DataFrame({'duples_cnt':[df.duplicated().sum()], \n",
    "                    'duples_pct':[df.duplicated().sum()/len(df)],\n",
    "                    'case_sensitive_duples':[(df_duples.duplicated().sum()-df.duplicated().sum())],\n",
    "                    'case_sensitive_pct':[(df_duples.duplicated().sum()-df.duplicated().sum())/len(df)], \n",
    "                    'id_duples':[id_duples],\n",
    "                    'id_duples_pct':[id_duples/len(df)]})\n",
    "      .style.applymap(lambda x: 'color:red' if x > 0 else 'color:green')\n",
    "      .format('{:.2%}', subset=['duples_pct', 'case_sensitive_pct', 'id_duples_pct'])\n",
    "  )\n",
    "  display(tbl_dupl)"
   ]
  },
  {
   "cell_type": "code",
   "execution_count": 9,
   "id": "9399a3ed",
   "metadata": {},
   "outputs": [],
   "source": [
    "try:\n",
    "    with open('test_frame_V1.json') as f:\n",
    "      data = json.load(f)\n",
    "except:\n",
    "    print('Проверьте путь к файлу')"
   ]
  },
  {
   "cell_type": "code",
   "execution_count": 10,
   "id": "15cff6a9",
   "metadata": {},
   "outputs": [],
   "source": [
    "df = pd.DataFrame(data)"
   ]
  },
  {
   "cell_type": "markdown",
   "id": "15b84c94",
   "metadata": {},
   "source": [
    "## **Предварительная обработка данных, исследовательский анализ**"
   ]
  },
  {
   "cell_type": "code",
   "execution_count": 11,
   "id": "f5dcc17b",
   "metadata": {},
   "outputs": [
    {
     "data": {
      "text/html": [
       "<div>\n",
       "<style scoped>\n",
       "    .dataframe tbody tr th:only-of-type {\n",
       "        vertical-align: middle;\n",
       "    }\n",
       "\n",
       "    .dataframe tbody tr th {\n",
       "        vertical-align: top;\n",
       "    }\n",
       "\n",
       "    .dataframe thead th {\n",
       "        text-align: right;\n",
       "    }\n",
       "</style>\n",
       "<table border=\"1\" class=\"dataframe\">\n",
       "  <thead>\n",
       "    <tr style=\"text-align: right;\">\n",
       "      <th></th>\n",
       "      <th>Клиент</th>\n",
       "      <th>Дата рождения</th>\n",
       "      <th>Брокерский счет</th>\n",
       "      <th>Услуга</th>\n",
       "      <th>Начало</th>\n",
       "      <th>Окончание</th>\n",
       "    </tr>\n",
       "  </thead>\n",
       "  <tbody>\n",
       "    <tr>\n",
       "      <th>0</th>\n",
       "      <td>User_0</td>\n",
       "      <td>2-3-1989</td>\n",
       "      <td>Broker_account_0</td>\n",
       "      <td>Strategy_0</td>\n",
       "      <td>2020-06-17T12:28:00.000Z</td>\n",
       "      <td>None</td>\n",
       "    </tr>\n",
       "    <tr>\n",
       "      <th>1</th>\n",
       "      <td>User_1</td>\n",
       "      <td>15-7-1981</td>\n",
       "      <td>Broker_account_1</td>\n",
       "      <td>Strategy_0</td>\n",
       "      <td>2020-11-27T16:39:12.000Z</td>\n",
       "      <td>2021-02-02T15:11:57.000Z</td>\n",
       "    </tr>\n",
       "    <tr>\n",
       "      <th>2</th>\n",
       "      <td>User_10</td>\n",
       "      <td>14-8-1988</td>\n",
       "      <td>Broker_account_10</td>\n",
       "      <td>Strategy_2</td>\n",
       "      <td>2020-12-09T11:59:27.000Z</td>\n",
       "      <td>None</td>\n",
       "    </tr>\n",
       "    <tr>\n",
       "      <th>3</th>\n",
       "      <td>User_10</td>\n",
       "      <td>14-8-1988</td>\n",
       "      <td>Broker_account_14023</td>\n",
       "      <td>Strategy_238</td>\n",
       "      <td>2020-09-24T12:54:06.000Z</td>\n",
       "      <td>2021-02-04T16:49:55.000Z</td>\n",
       "    </tr>\n",
       "    <tr>\n",
       "      <th>4</th>\n",
       "      <td>User_10</td>\n",
       "      <td>14-8-1988</td>\n",
       "      <td>Broker_account_14024</td>\n",
       "      <td>Strategy_236</td>\n",
       "      <td>2020-11-10T15:52:13.000Z</td>\n",
       "      <td>None</td>\n",
       "    </tr>\n",
       "  </tbody>\n",
       "</table>\n",
       "</div>"
      ],
      "text/plain": [
       "    Клиент Дата рождения       Брокерский счет        Услуга  \\\n",
       "0   User_0      2-3-1989      Broker_account_0    Strategy_0   \n",
       "1   User_1     15-7-1981      Broker_account_1    Strategy_0   \n",
       "2  User_10     14-8-1988     Broker_account_10    Strategy_2   \n",
       "3  User_10     14-8-1988  Broker_account_14023  Strategy_238   \n",
       "4  User_10     14-8-1988  Broker_account_14024  Strategy_236   \n",
       "\n",
       "                     Начало                 Окончание  \n",
       "0  2020-06-17T12:28:00.000Z                      None  \n",
       "1  2020-11-27T16:39:12.000Z  2021-02-02T15:11:57.000Z  \n",
       "2  2020-12-09T11:59:27.000Z                      None  \n",
       "3  2020-09-24T12:54:06.000Z  2021-02-04T16:49:55.000Z  \n",
       "4  2020-11-10T15:52:13.000Z                      None  "
      ]
     },
     "execution_count": 11,
     "metadata": {},
     "output_type": "execute_result"
    }
   ],
   "source": [
    "df.head()"
   ]
  },
  {
   "cell_type": "code",
   "execution_count": 12,
   "id": "631b573c",
   "metadata": {},
   "outputs": [
    {
     "name": "stdout",
     "output_type": "stream",
     "text": [
      "<class 'pandas.core.frame.DataFrame'>\n",
      "RangeIndex: 17271 entries, 0 to 17270\n",
      "Data columns (total 6 columns):\n",
      " #   Column           Non-Null Count  Dtype \n",
      "---  ------           --------------  ----- \n",
      " 0   Клиент           17271 non-null  object\n",
      " 1   Дата рождения    17271 non-null  object\n",
      " 2   Брокерский счет  17271 non-null  object\n",
      " 3   Услуга           17271 non-null  object\n",
      " 4   Начало           17271 non-null  object\n",
      " 5   Окончание        4828 non-null   object\n",
      "dtypes: object(6)\n",
      "memory usage: 809.7+ KB\n"
     ]
    }
   ],
   "source": [
    "df.info()"
   ]
  },
  {
   "cell_type": "code",
   "execution_count": 13,
   "id": "c0613c06",
   "metadata": {},
   "outputs": [],
   "source": [
    "# Переведем стобцы с датами (Начало, Окончание, Дата рождения) в формат datetime\n",
    "df['start_dt'] = pd.to_datetime(df['Начало']).dt.tz_localize(None)\n",
    "df['end_dt'] = pd.to_datetime(df['Окончание']).dt.tz_localize(None)\n",
    "df['dob'] = pd.to_datetime(df['Дата рождения'], format='%d-%m-%Y')"
   ]
  },
  {
   "cell_type": "markdown",
   "id": "0273d321",
   "metadata": {},
   "source": [
    "Удалим столбцы Дата рождения, Начало и Окончания и переименуем оставшиеся в более удобный для анализа вид (без пробелов, с использованием латиницы и snake case)"
   ]
  },
  {
   "cell_type": "code",
   "execution_count": 14,
   "id": "c7028e1b",
   "metadata": {},
   "outputs": [],
   "source": [
    "df = df.drop(['Дата рождения', 'Начало', 'Окончание'], axis=1)"
   ]
  },
  {
   "cell_type": "code",
   "execution_count": 15,
   "id": "90e06fe3",
   "metadata": {},
   "outputs": [
    {
     "data": {
      "text/plain": [
       "Index(['Клиент', 'Брокерский счет', 'Услуга', 'start_dt', 'end_dt', 'dob'], dtype='object')"
      ]
     },
     "execution_count": 15,
     "metadata": {},
     "output_type": "execute_result"
    }
   ],
   "source": [
    "df.columns"
   ]
  },
  {
   "cell_type": "code",
   "execution_count": 16,
   "id": "acaf3bd2",
   "metadata": {},
   "outputs": [],
   "source": [
    "df.columns = ['client', 'broker_account', 'strategy', 'start_dt', 'end_dt', 'dob']"
   ]
  },
  {
   "cell_type": "code",
   "execution_count": 17,
   "id": "049eba77",
   "metadata": {},
   "outputs": [
    {
     "name": "stdout",
     "output_type": "stream",
     "text": [
      "\u001b[1mGeneral information\u001b[0m\n",
      "<class 'pandas.core.frame.DataFrame'>\n",
      "RangeIndex: 17271 entries, 0 to 17270\n",
      "Data columns (total 6 columns):\n",
      " #   Column          Non-Null Count  Dtype         \n",
      "---  ------          --------------  -----         \n",
      " 0   client          17271 non-null  object        \n",
      " 1   broker_account  17271 non-null  object        \n",
      " 2   strategy        17271 non-null  object        \n",
      " 3   start_dt        17271 non-null  datetime64[ns]\n",
      " 4   end_dt          4828 non-null   datetime64[ns]\n",
      " 5   dob             17271 non-null  datetime64[ns]\n",
      "dtypes: datetime64[ns](3), object(3)\n",
      "memory usage: 809.7+ KB\n"
     ]
    },
    {
     "data": {
      "text/plain": [
       "None"
      ]
     },
     "metadata": {},
     "output_type": "display_data"
    },
    {
     "name": "stdout",
     "output_type": "stream",
     "text": [
      "\n",
      "\u001b[1mColumn stats\u001b[0m\n",
      "\n",
      "\u001b[94mclient - dtype: object\u001b[0m\n"
     ]
    },
    {
     "data": {
      "text/html": [
       "<style type=\"text/css\">\n",
       "#T_ec396_row0_col2, #T_ec396_row0_col3, #T_ec396_row0_col5 {\n",
       "  color: green;\n",
       "}\n",
       "</style>\n",
       "<table id=\"T_ec396\">\n",
       "  <thead>\n",
       "    <tr>\n",
       "      <th class=\"blank level0\" >&nbsp;</th>\n",
       "      <th id=\"T_ec396_level0_col0\" class=\"col_heading level0 col0\" >valid</th>\n",
       "      <th id=\"T_ec396_level0_col1\" class=\"col_heading level0 col1\" >valid_pct</th>\n",
       "      <th id=\"T_ec396_level0_col2\" class=\"col_heading level0 col2\" >missing</th>\n",
       "      <th id=\"T_ec396_level0_col3\" class=\"col_heading level0 col3\" >missing_pct</th>\n",
       "      <th id=\"T_ec396_level0_col4\" class=\"col_heading level0 col4\" >unique_values</th>\n",
       "      <th id=\"T_ec396_level0_col5\" class=\"col_heading level0 col5\" >case_sensitive_dupl</th>\n",
       "    </tr>\n",
       "  </thead>\n",
       "  <tbody>\n",
       "    <tr>\n",
       "      <th id=\"T_ec396_level0_row0\" class=\"row_heading level0 row0\" >0</th>\n",
       "      <td id=\"T_ec396_row0_col0\" class=\"data row0 col0\" >17271</td>\n",
       "      <td id=\"T_ec396_row0_col1\" class=\"data row0 col1\" >100.00%</td>\n",
       "      <td id=\"T_ec396_row0_col2\" class=\"data row0 col2\" >0</td>\n",
       "      <td id=\"T_ec396_row0_col3\" class=\"data row0 col3\" >0.00%</td>\n",
       "      <td id=\"T_ec396_row0_col4\" class=\"data row0 col4\" >10320</td>\n",
       "      <td id=\"T_ec396_row0_col5\" class=\"data row0 col5\" >0</td>\n",
       "    </tr>\n",
       "  </tbody>\n",
       "</table>\n"
      ],
      "text/plain": [
       "<pandas.io.formats.style.Styler at 0x135097d1e20>"
      ]
     },
     "metadata": {},
     "output_type": "display_data"
    },
    {
     "data": {
      "text/html": [
       "<style type=\"text/css\">\n",
       "</style>\n",
       "<table id=\"T_e1f05\">\n",
       "  <thead>\n",
       "    <tr>\n",
       "      <th class=\"blank level0\" >&nbsp;</th>\n",
       "      <th id=\"T_e1f05_level0_col0\" class=\"col_heading level0 col0\" ></th>\n",
       "    </tr>\n",
       "    <tr>\n",
       "      <th class=\"index_name level0\" >Most common</th>\n",
       "      <th class=\"blank col0\" >&nbsp;</th>\n",
       "    </tr>\n",
       "  </thead>\n",
       "  <tbody>\n",
       "    <tr>\n",
       "      <th id=\"T_e1f05_level0_row0\" class=\"row_heading level0 row0\" >User_766</th>\n",
       "      <td id=\"T_e1f05_row0_col0\" class=\"data row0 col0\" >0.3%</td>\n",
       "    </tr>\n",
       "    <tr>\n",
       "      <th id=\"T_e1f05_level0_row1\" class=\"row_heading level0 row1\" >User_2111</th>\n",
       "      <td id=\"T_e1f05_row1_col0\" class=\"data row1 col0\" >0.2%</td>\n",
       "    </tr>\n",
       "    <tr>\n",
       "      <th id=\"T_e1f05_level0_row2\" class=\"row_heading level0 row2\" >User_10219</th>\n",
       "      <td id=\"T_e1f05_row2_col0\" class=\"data row2 col0\" >0.1%</td>\n",
       "    </tr>\n",
       "    <tr>\n",
       "      <th id=\"T_e1f05_level0_row3\" class=\"row_heading level0 row3\" >User_1949</th>\n",
       "      <td id=\"T_e1f05_row3_col0\" class=\"data row3 col0\" >0.1%</td>\n",
       "    </tr>\n",
       "    <tr>\n",
       "      <th id=\"T_e1f05_level0_row4\" class=\"row_heading level0 row4\" >User_6293</th>\n",
       "      <td id=\"T_e1f05_row4_col0\" class=\"data row4 col0\" >0.1%</td>\n",
       "    </tr>\n",
       "    <tr>\n",
       "      <th id=\"T_e1f05_level0_row5\" class=\"row_heading level0 row5\" >other</th>\n",
       "      <td id=\"T_e1f05_row5_col0\" class=\"data row5 col0\" >99.1%</td>\n",
       "    </tr>\n",
       "  </tbody>\n",
       "</table>\n"
      ],
      "text/plain": [
       "<pandas.io.formats.style.Styler at 0x13509838280>"
      ]
     },
     "metadata": {},
     "output_type": "display_data"
    },
    {
     "name": "stdout",
     "output_type": "stream",
     "text": [
      "\n",
      "\u001b[94mbroker_account - dtype: object\u001b[0m\n"
     ]
    },
    {
     "data": {
      "text/html": [
       "<style type=\"text/css\">\n",
       "#T_4039b_row0_col2, #T_4039b_row0_col3, #T_4039b_row0_col5 {\n",
       "  color: green;\n",
       "}\n",
       "</style>\n",
       "<table id=\"T_4039b\">\n",
       "  <thead>\n",
       "    <tr>\n",
       "      <th class=\"blank level0\" >&nbsp;</th>\n",
       "      <th id=\"T_4039b_level0_col0\" class=\"col_heading level0 col0\" >valid</th>\n",
       "      <th id=\"T_4039b_level0_col1\" class=\"col_heading level0 col1\" >valid_pct</th>\n",
       "      <th id=\"T_4039b_level0_col2\" class=\"col_heading level0 col2\" >missing</th>\n",
       "      <th id=\"T_4039b_level0_col3\" class=\"col_heading level0 col3\" >missing_pct</th>\n",
       "      <th id=\"T_4039b_level0_col4\" class=\"col_heading level0 col4\" >unique_values</th>\n",
       "      <th id=\"T_4039b_level0_col5\" class=\"col_heading level0 col5\" >case_sensitive_dupl</th>\n",
       "    </tr>\n",
       "  </thead>\n",
       "  <tbody>\n",
       "    <tr>\n",
       "      <th id=\"T_4039b_level0_row0\" class=\"row_heading level0 row0\" >0</th>\n",
       "      <td id=\"T_4039b_row0_col0\" class=\"data row0 col0\" >17271</td>\n",
       "      <td id=\"T_4039b_row0_col1\" class=\"data row0 col1\" >100.00%</td>\n",
       "      <td id=\"T_4039b_row0_col2\" class=\"data row0 col2\" >0</td>\n",
       "      <td id=\"T_4039b_row0_col3\" class=\"data row0 col3\" >0.00%</td>\n",
       "      <td id=\"T_4039b_row0_col4\" class=\"data row0 col4\" >16456</td>\n",
       "      <td id=\"T_4039b_row0_col5\" class=\"data row0 col5\" >0</td>\n",
       "    </tr>\n",
       "  </tbody>\n",
       "</table>\n"
      ],
      "text/plain": [
       "<pandas.io.formats.style.Styler at 0x13509608820>"
      ]
     },
     "metadata": {},
     "output_type": "display_data"
    },
    {
     "data": {
      "text/html": [
       "<style type=\"text/css\">\n",
       "</style>\n",
       "<table id=\"T_efa44\">\n",
       "  <thead>\n",
       "    <tr>\n",
       "      <th class=\"blank level0\" >&nbsp;</th>\n",
       "      <th id=\"T_efa44_level0_col0\" class=\"col_heading level0 col0\" ></th>\n",
       "    </tr>\n",
       "    <tr>\n",
       "      <th class=\"index_name level0\" >Most common</th>\n",
       "      <th class=\"blank col0\" >&nbsp;</th>\n",
       "    </tr>\n",
       "  </thead>\n",
       "  <tbody>\n",
       "    <tr>\n",
       "      <th id=\"T_efa44_level0_row0\" class=\"row_heading level0 row0\" >Broker_account_2354</th>\n",
       "      <td id=\"T_efa44_row0_col0\" class=\"data row0 col0\" >0.2%</td>\n",
       "    </tr>\n",
       "    <tr>\n",
       "      <th id=\"T_efa44_level0_row1\" class=\"row_heading level0 row1\" >Broker_account_11813</th>\n",
       "      <td id=\"T_efa44_row1_col0\" class=\"data row1 col0\" >0.0%</td>\n",
       "    </tr>\n",
       "    <tr>\n",
       "      <th id=\"T_efa44_level0_row2\" class=\"row_heading level0 row2\" >Broker_account_11814</th>\n",
       "      <td id=\"T_efa44_row2_col0\" class=\"data row2 col0\" >0.0%</td>\n",
       "    </tr>\n",
       "    <tr>\n",
       "      <th id=\"T_efa44_level0_row3\" class=\"row_heading level0 row3\" >Broker_account_11811</th>\n",
       "      <td id=\"T_efa44_row3_col0\" class=\"data row3 col0\" >0.0%</td>\n",
       "    </tr>\n",
       "    <tr>\n",
       "      <th id=\"T_efa44_level0_row4\" class=\"row_heading level0 row4\" >Broker_account_7703</th>\n",
       "      <td id=\"T_efa44_row4_col0\" class=\"data row4 col0\" >0.0%</td>\n",
       "    </tr>\n",
       "    <tr>\n",
       "      <th id=\"T_efa44_level0_row5\" class=\"row_heading level0 row5\" >other</th>\n",
       "      <td id=\"T_efa44_row5_col0\" class=\"data row5 col0\" >99.7%</td>\n",
       "    </tr>\n",
       "  </tbody>\n",
       "</table>\n"
      ],
      "text/plain": [
       "<pandas.io.formats.style.Styler at 0x13509a271f0>"
      ]
     },
     "metadata": {},
     "output_type": "display_data"
    },
    {
     "name": "stdout",
     "output_type": "stream",
     "text": [
      "\n",
      "\u001b[94mstrategy - dtype: object\u001b[0m\n"
     ]
    },
    {
     "data": {
      "text/html": [
       "<style type=\"text/css\">\n",
       "#T_c5273_row0_col2, #T_c5273_row0_col3, #T_c5273_row0_col5 {\n",
       "  color: green;\n",
       "}\n",
       "</style>\n",
       "<table id=\"T_c5273\">\n",
       "  <thead>\n",
       "    <tr>\n",
       "      <th class=\"blank level0\" >&nbsp;</th>\n",
       "      <th id=\"T_c5273_level0_col0\" class=\"col_heading level0 col0\" >valid</th>\n",
       "      <th id=\"T_c5273_level0_col1\" class=\"col_heading level0 col1\" >valid_pct</th>\n",
       "      <th id=\"T_c5273_level0_col2\" class=\"col_heading level0 col2\" >missing</th>\n",
       "      <th id=\"T_c5273_level0_col3\" class=\"col_heading level0 col3\" >missing_pct</th>\n",
       "      <th id=\"T_c5273_level0_col4\" class=\"col_heading level0 col4\" >unique_values</th>\n",
       "      <th id=\"T_c5273_level0_col5\" class=\"col_heading level0 col5\" >case_sensitive_dupl</th>\n",
       "    </tr>\n",
       "  </thead>\n",
       "  <tbody>\n",
       "    <tr>\n",
       "      <th id=\"T_c5273_level0_row0\" class=\"row_heading level0 row0\" >0</th>\n",
       "      <td id=\"T_c5273_row0_col0\" class=\"data row0 col0\" >17271</td>\n",
       "      <td id=\"T_c5273_row0_col1\" class=\"data row0 col1\" >100.00%</td>\n",
       "      <td id=\"T_c5273_row0_col2\" class=\"data row0 col2\" >0</td>\n",
       "      <td id=\"T_c5273_row0_col3\" class=\"data row0 col3\" >0.00%</td>\n",
       "      <td id=\"T_c5273_row0_col4\" class=\"data row0 col4\" >331</td>\n",
       "      <td id=\"T_c5273_row0_col5\" class=\"data row0 col5\" >0</td>\n",
       "    </tr>\n",
       "  </tbody>\n",
       "</table>\n"
      ],
      "text/plain": [
       "<pandas.io.formats.style.Styler at 0x1350a725ac0>"
      ]
     },
     "metadata": {},
     "output_type": "display_data"
    },
    {
     "data": {
      "text/html": [
       "<style type=\"text/css\">\n",
       "</style>\n",
       "<table id=\"T_eb5ef\">\n",
       "  <thead>\n",
       "    <tr>\n",
       "      <th class=\"blank level0\" >&nbsp;</th>\n",
       "      <th id=\"T_eb5ef_level0_col0\" class=\"col_heading level0 col0\" ></th>\n",
       "    </tr>\n",
       "    <tr>\n",
       "      <th class=\"index_name level0\" >Most common</th>\n",
       "      <th class=\"blank col0\" >&nbsp;</th>\n",
       "    </tr>\n",
       "  </thead>\n",
       "  <tbody>\n",
       "    <tr>\n",
       "      <th id=\"T_eb5ef_level0_row0\" class=\"row_heading level0 row0\" >Strategy_59</th>\n",
       "      <td id=\"T_eb5ef_row0_col0\" class=\"data row0 col0\" >8.7%</td>\n",
       "    </tr>\n",
       "    <tr>\n",
       "      <th id=\"T_eb5ef_level0_row1\" class=\"row_heading level0 row1\" >Strategy_16</th>\n",
       "      <td id=\"T_eb5ef_row1_col0\" class=\"data row1 col0\" >8.2%</td>\n",
       "    </tr>\n",
       "    <tr>\n",
       "      <th id=\"T_eb5ef_level0_row2\" class=\"row_heading level0 row2\" >Strategy_17</th>\n",
       "      <td id=\"T_eb5ef_row2_col0\" class=\"data row2 col0\" >8.1%</td>\n",
       "    </tr>\n",
       "    <tr>\n",
       "      <th id=\"T_eb5ef_level0_row3\" class=\"row_heading level0 row3\" >Strategy_18</th>\n",
       "      <td id=\"T_eb5ef_row3_col0\" class=\"data row3 col0\" >4.2%</td>\n",
       "    </tr>\n",
       "    <tr>\n",
       "      <th id=\"T_eb5ef_level0_row4\" class=\"row_heading level0 row4\" >Strategy_362</th>\n",
       "      <td id=\"T_eb5ef_row4_col0\" class=\"data row4 col0\" >3.7%</td>\n",
       "    </tr>\n",
       "    <tr>\n",
       "      <th id=\"T_eb5ef_level0_row5\" class=\"row_heading level0 row5\" >other</th>\n",
       "      <td id=\"T_eb5ef_row5_col0\" class=\"data row5 col0\" >67.2%</td>\n",
       "    </tr>\n",
       "  </tbody>\n",
       "</table>\n"
      ],
      "text/plain": [
       "<pandas.io.formats.style.Styler at 0x13509838280>"
      ]
     },
     "metadata": {},
     "output_type": "display_data"
    },
    {
     "name": "stdout",
     "output_type": "stream",
     "text": [
      "\n",
      "\u001b[94mstart_dt - dtype: datetime64[ns]\u001b[0m\n"
     ]
    },
    {
     "data": {
      "text/html": [
       "<style type=\"text/css\">\n",
       "#T_9d5c9_row0_col2, #T_9d5c9_row0_col3 {\n",
       "  color: green;\n",
       "}\n",
       "</style>\n",
       "<table id=\"T_9d5c9\">\n",
       "  <thead>\n",
       "    <tr>\n",
       "      <th class=\"blank level0\" >&nbsp;</th>\n",
       "      <th id=\"T_9d5c9_level0_col0\" class=\"col_heading level0 col0\" >valid</th>\n",
       "      <th id=\"T_9d5c9_level0_col1\" class=\"col_heading level0 col1\" >valid_pct</th>\n",
       "      <th id=\"T_9d5c9_level0_col2\" class=\"col_heading level0 col2\" >missing</th>\n",
       "      <th id=\"T_9d5c9_level0_col3\" class=\"col_heading level0 col3\" >missing_pct</th>\n",
       "      <th id=\"T_9d5c9_level0_col4\" class=\"col_heading level0 col4\" >unique_values</th>\n",
       "    </tr>\n",
       "  </thead>\n",
       "  <tbody>\n",
       "    <tr>\n",
       "      <th id=\"T_9d5c9_level0_row0\" class=\"row_heading level0 row0\" >0</th>\n",
       "      <td id=\"T_9d5c9_row0_col0\" class=\"data row0 col0\" >17271</td>\n",
       "      <td id=\"T_9d5c9_row0_col1\" class=\"data row0 col1\" >100.00%</td>\n",
       "      <td id=\"T_9d5c9_row0_col2\" class=\"data row0 col2\" >0</td>\n",
       "      <td id=\"T_9d5c9_row0_col3\" class=\"data row0 col3\" >0.00%</td>\n",
       "      <td id=\"T_9d5c9_row0_col4\" class=\"data row0 col4\" >16399</td>\n",
       "    </tr>\n",
       "  </tbody>\n",
       "</table>\n"
      ],
      "text/plain": [
       "<pandas.io.formats.style.Styler at 0x1350a742670>"
      ]
     },
     "metadata": {},
     "output_type": "display_data"
    },
    {
     "data": {
      "image/png": "[encoded data removed]",
      "text/plain": [
       "<Figure size 432x288 with 1 Axes>"
      ]
     },
     "metadata": {},
     "output_type": "display_data"
    },
    {
     "data": {
      "text/html": [
       "<div>\n",
       "<style scoped>\n",
       "    .dataframe tbody tr th:only-of-type {\n",
       "        vertical-align: middle;\n",
       "    }\n",
       "\n",
       "    .dataframe tbody tr th {\n",
       "        vertical-align: top;\n",
       "    }\n",
       "\n",
       "    .dataframe thead th {\n",
       "        text-align: right;\n",
       "    }\n",
       "</style>\n",
       "<table border=\"1\" class=\"dataframe\">\n",
       "  <thead>\n",
       "    <tr style=\"text-align: right;\">\n",
       "      <th></th>\n",
       "      <th></th>\n",
       "    </tr>\n",
       "  </thead>\n",
       "  <tbody>\n",
       "    <tr>\n",
       "      <th>min</th>\n",
       "      <td>2020-01-02 13:02:32.000000000</td>\n",
       "    </tr>\n",
       "    <tr>\n",
       "      <th>max</th>\n",
       "      <td>2020-12-14 23:49:35.000000000</td>\n",
       "    </tr>\n",
       "    <tr>\n",
       "      <th>mean</th>\n",
       "      <td>2020-08-25 22:40:28.245150976</td>\n",
       "    </tr>\n",
       "  </tbody>\n",
       "</table>\n",
       "</div>"
      ],
      "text/plain": [
       "                                  \n",
       "min  2020-01-02 13:02:32.000000000\n",
       "max  2020-12-14 23:49:35.000000000\n",
       "mean 2020-08-25 22:40:28.245150976"
      ]
     },
     "metadata": {},
     "output_type": "display_data"
    },
    {
     "name": "stdout",
     "output_type": "stream",
     "text": [
      "\n",
      "\u001b[94mend_dt - dtype: datetime64[ns]\u001b[0m\n"
     ]
    },
    {
     "data": {
      "text/html": [
       "<style type=\"text/css\">\n",
       "#T_56957_row0_col2, #T_56957_row0_col3 {\n",
       "  color: red;\n",
       "}\n",
       "</style>\n",
       "<table id=\"T_56957\">\n",
       "  <thead>\n",
       "    <tr>\n",
       "      <th class=\"blank level0\" >&nbsp;</th>\n",
       "      <th id=\"T_56957_level0_col0\" class=\"col_heading level0 col0\" >valid</th>\n",
       "      <th id=\"T_56957_level0_col1\" class=\"col_heading level0 col1\" >valid_pct</th>\n",
       "      <th id=\"T_56957_level0_col2\" class=\"col_heading level0 col2\" >missing</th>\n",
       "      <th id=\"T_56957_level0_col3\" class=\"col_heading level0 col3\" >missing_pct</th>\n",
       "      <th id=\"T_56957_level0_col4\" class=\"col_heading level0 col4\" >unique_values</th>\n",
       "    </tr>\n",
       "  </thead>\n",
       "  <tbody>\n",
       "    <tr>\n",
       "      <th id=\"T_56957_level0_row0\" class=\"row_heading level0 row0\" >0</th>\n",
       "      <td id=\"T_56957_row0_col0\" class=\"data row0 col0\" >4828</td>\n",
       "      <td id=\"T_56957_row0_col1\" class=\"data row0 col1\" >27.95%</td>\n",
       "      <td id=\"T_56957_row0_col2\" class=\"data row0 col2\" >12443</td>\n",
       "      <td id=\"T_56957_row0_col3\" class=\"data row0 col3\" >72.05%</td>\n",
       "      <td id=\"T_56957_row0_col4\" class=\"data row0 col4\" >4256</td>\n",
       "    </tr>\n",
       "  </tbody>\n",
       "</table>\n"
      ],
      "text/plain": [
       "<pandas.io.formats.style.Styler at 0x1350a725fd0>"
      ]
     },
     "metadata": {},
     "output_type": "display_data"
    },
    {
     "data": {
      "image/png": "[encoded data removed]",
      "text/plain": [
       "<Figure size 432x288 with 1 Axes>"
      ]
     },
     "metadata": {},
     "output_type": "display_data"
    },
    {
     "data": {
      "text/html": [
       "<div>\n",
       "<style scoped>\n",
       "    .dataframe tbody tr th:only-of-type {\n",
       "        vertical-align: middle;\n",
       "    }\n",
       "\n",
       "    .dataframe tbody tr th {\n",
       "        vertical-align: top;\n",
       "    }\n",
       "\n",
       "    .dataframe thead th {\n",
       "        text-align: right;\n",
       "    }\n",
       "</style>\n",
       "<table border=\"1\" class=\"dataframe\">\n",
       "  <thead>\n",
       "    <tr style=\"text-align: right;\">\n",
       "      <th></th>\n",
       "      <th></th>\n",
       "    </tr>\n",
       "  </thead>\n",
       "  <tbody>\n",
       "    <tr>\n",
       "      <th>min</th>\n",
       "      <td>2020-05-04 14:31:15.000000000</td>\n",
       "    </tr>\n",
       "    <tr>\n",
       "      <th>max</th>\n",
       "      <td>2021-02-16 23:36:08.000000000</td>\n",
       "    </tr>\n",
       "    <tr>\n",
       "      <th>mean</th>\n",
       "      <td>2021-01-03 05:04:29.465203200</td>\n",
       "    </tr>\n",
       "  </tbody>\n",
       "</table>\n",
       "</div>"
      ],
      "text/plain": [
       "                                  \n",
       "min  2020-05-04 14:31:15.000000000\n",
       "max  2021-02-16 23:36:08.000000000\n",
       "mean 2021-01-03 05:04:29.465203200"
      ]
     },
     "metadata": {},
     "output_type": "display_data"
    },
    {
     "name": "stdout",
     "output_type": "stream",
     "text": [
      "\n",
      "\u001b[94mdob - dtype: datetime64[ns]\u001b[0m\n"
     ]
    },
    {
     "data": {
      "text/html": [
       "<style type=\"text/css\">\n",
       "#T_b7ad2_row0_col2, #T_b7ad2_row0_col3 {\n",
       "  color: green;\n",
       "}\n",
       "</style>\n",
       "<table id=\"T_b7ad2\">\n",
       "  <thead>\n",
       "    <tr>\n",
       "      <th class=\"blank level0\" >&nbsp;</th>\n",
       "      <th id=\"T_b7ad2_level0_col0\" class=\"col_heading level0 col0\" >valid</th>\n",
       "      <th id=\"T_b7ad2_level0_col1\" class=\"col_heading level0 col1\" >valid_pct</th>\n",
       "      <th id=\"T_b7ad2_level0_col2\" class=\"col_heading level0 col2\" >missing</th>\n",
       "      <th id=\"T_b7ad2_level0_col3\" class=\"col_heading level0 col3\" >missing_pct</th>\n",
       "      <th id=\"T_b7ad2_level0_col4\" class=\"col_heading level0 col4\" >unique_values</th>\n",
       "    </tr>\n",
       "  </thead>\n",
       "  <tbody>\n",
       "    <tr>\n",
       "      <th id=\"T_b7ad2_level0_row0\" class=\"row_heading level0 row0\" >0</th>\n",
       "      <td id=\"T_b7ad2_row0_col0\" class=\"data row0 col0\" >17271</td>\n",
       "      <td id=\"T_b7ad2_row0_col1\" class=\"data row0 col1\" >100.00%</td>\n",
       "      <td id=\"T_b7ad2_row0_col2\" class=\"data row0 col2\" >0</td>\n",
       "      <td id=\"T_b7ad2_row0_col3\" class=\"data row0 col3\" >0.00%</td>\n",
       "      <td id=\"T_b7ad2_row0_col4\" class=\"data row0 col4\" >1584</td>\n",
       "    </tr>\n",
       "  </tbody>\n",
       "</table>\n"
      ],
      "text/plain": [
       "<pandas.io.formats.style.Styler at 0x1350a7abf10>"
      ]
     },
     "metadata": {},
     "output_type": "display_data"
    },
    {
     "data": {
      "image/png": "[encoded data removed]",
      "text/plain": [
       "<Figure size 432x288 with 1 Axes>"
      ]
     },
     "metadata": {},
     "output_type": "display_data"
    },
    {
     "data": {
      "text/html": [
       "<div>\n",
       "<style scoped>\n",
       "    .dataframe tbody tr th:only-of-type {\n",
       "        vertical-align: middle;\n",
       "    }\n",
       "\n",
       "    .dataframe tbody tr th {\n",
       "        vertical-align: top;\n",
       "    }\n",
       "\n",
       "    .dataframe thead th {\n",
       "        text-align: right;\n",
       "    }\n",
       "</style>\n",
       "<table border=\"1\" class=\"dataframe\">\n",
       "  <thead>\n",
       "    <tr style=\"text-align: right;\">\n",
       "      <th></th>\n",
       "      <th></th>\n",
       "    </tr>\n",
       "  </thead>\n",
       "  <tbody>\n",
       "    <tr>\n",
       "      <th>min</th>\n",
       "      <td>1981-03-01 00:00:00.000000000</td>\n",
       "    </tr>\n",
       "    <tr>\n",
       "      <th>max</th>\n",
       "      <td>2015-04-07 00:00:00.000000000</td>\n",
       "    </tr>\n",
       "    <tr>\n",
       "      <th>mean</th>\n",
       "      <td>1986-06-29 06:33:17.290255360</td>\n",
       "    </tr>\n",
       "  </tbody>\n",
       "</table>\n",
       "</div>"
      ],
      "text/plain": [
       "                                  \n",
       "min  1981-03-01 00:00:00.000000000\n",
       "max  2015-04-07 00:00:00.000000000\n",
       "mean 1986-06-29 06:33:17.290255360"
      ]
     },
     "metadata": {},
     "output_type": "display_data"
    },
    {
     "name": "stdout",
     "output_type": "stream",
     "text": [
      "\n",
      "\u001b[94mEDA brief\u001b[0m\n",
      "\n",
      "Rows in dataset: 17271\n",
      "Columns in dataset: 6\n",
      "Number of columns with missing values: 1\n",
      "Columns with missing values:  ['end_dt']\n",
      "\n",
      "\u001b[1mDuplicates in dataset: \u001b[0m\n"
     ]
    },
    {
     "data": {
      "text/html": [
       "<style type=\"text/css\">\n",
       "#T_71cd5_row0_col0, #T_71cd5_row0_col1 {\n",
       "  color: red;\n",
       "}\n",
       "#T_71cd5_row0_col2, #T_71cd5_row0_col3, #T_71cd5_row0_col4, #T_71cd5_row0_col5 {\n",
       "  color: green;\n",
       "}\n",
       "</style>\n",
       "<table id=\"T_71cd5\">\n",
       "  <thead>\n",
       "    <tr>\n",
       "      <th class=\"blank level0\" >&nbsp;</th>\n",
       "      <th id=\"T_71cd5_level0_col0\" class=\"col_heading level0 col0\" >duples_cnt</th>\n",
       "      <th id=\"T_71cd5_level0_col1\" class=\"col_heading level0 col1\" >duples_pct</th>\n",
       "      <th id=\"T_71cd5_level0_col2\" class=\"col_heading level0 col2\" >case_sensitive_duples</th>\n",
       "      <th id=\"T_71cd5_level0_col3\" class=\"col_heading level0 col3\" >case_sensitive_pct</th>\n",
       "      <th id=\"T_71cd5_level0_col4\" class=\"col_heading level0 col4\" >id_duples</th>\n",
       "      <th id=\"T_71cd5_level0_col5\" class=\"col_heading level0 col5\" >id_duples_pct</th>\n",
       "    </tr>\n",
       "  </thead>\n",
       "  <tbody>\n",
       "    <tr>\n",
       "      <th id=\"T_71cd5_level0_row0\" class=\"row_heading level0 row0\" >0</th>\n",
       "      <td id=\"T_71cd5_row0_col0\" class=\"data row0 col0\" >1</td>\n",
       "      <td id=\"T_71cd5_row0_col1\" class=\"data row0 col1\" >0.01%</td>\n",
       "      <td id=\"T_71cd5_row0_col2\" class=\"data row0 col2\" >0</td>\n",
       "      <td id=\"T_71cd5_row0_col3\" class=\"data row0 col3\" >0.00%</td>\n",
       "      <td id=\"T_71cd5_row0_col4\" class=\"data row0 col4\" >0</td>\n",
       "      <td id=\"T_71cd5_row0_col5\" class=\"data row0 col5\" >0.00%</td>\n",
       "    </tr>\n",
       "  </tbody>\n",
       "</table>\n"
      ],
      "text/plain": [
       "<pandas.io.formats.style.Styler at 0x1350b583fd0>"
      ]
     },
     "metadata": {},
     "output_type": "display_data"
    }
   ],
   "source": [
    "# Применим функцию для предварительного анализа имеющихся данных\n",
    "df_eda(df)"
   ]
  },
  {
   "cell_type": "markdown",
   "id": "566e90fd",
   "metadata": {},
   "source": [
    "В датасете содержится информация по 10320 уникальным клиентам. Кол-во уникальных брокерских счетов - 16456, т.е. есть клиенты с несколькими брокерскими счетами. Наиболее часто встречающиеся пользователи - User_766 и User_2111, наиболее часто встречающийся брокерский счет - Broker_account_2354 - целесообразно будет проверить на наличие здесь подозрительной активности. \n",
    "\n",
    "Число стратегий - 331. Тройка самых популярных - Strategy_59, Strategy_16 и Strategy_17. Формат первых трех столбцов - object, содержит текстовые переменные. Пропуски отсутствуют.\n",
    "\n",
    "Дата открытия стратегии (Начало) содержит информацию за период со 2 января 2020 года по 14 декабря 2020 года, т.е. почти за один календарный год. Пропуски отсутствуют. На гистограмме виден всплеск активности по открытию стратегий в конце года - также нужноо проверить, с чем это было связано. \n",
    "\n",
    "Дата закрытия стратегии (Окончание) - много пропусков (72%), объясняется тем, что не все стратегии закрыты. Исходим из того, что процент закрытых - 28%, остальные действующие. Замены пропусков не требуется. Данные за период с 4 мая 2020 года по 16 февраля 2021 года (есть смещение по времени по сравнению с периодом открытия стратегий - надо будет сопоставить на общей гистограмме). Гистограмма распределения данных по закрытым стратегиям выглядит аномально: основная часть закрытий приходится на период, начиная с декабря 2020 года - до этого времени практически не было закрытий, если не считать странного \"всплеска\" в мае 2020 г. (нужно проверить с чем он был связан). В декабре мы наблюдаем резкий всплеск закрытий и далее закрытия стабильно продолжались, но уже не так активно.\n",
    "\n",
    "Столбец \"Дата рождения\" также вызывает вопросы: Среди основной части совершеннолетних клиентов у нас явно \"затесался\" несовершеннолетний (день рождения самого молодого клиента - 7 апреля 2015 г., т.е. на момент начала стратегии ему было от 5 до 6 лет) - это также требует проверки. Пропусков в этом столбце нет. \n",
    "\n",
    "Дубликаты: в датасете один полный дубликат."
   ]
  },
  {
   "cell_type": "markdown",
   "id": "8a9d673f",
   "metadata": {},
   "source": [
    "## **Анализ аномалий**"
   ]
  },
  {
   "cell_type": "markdown",
   "id": "468b4373",
   "metadata": {},
   "source": [
    "### **Дубликаты**"
   ]
  },
  {
   "cell_type": "code",
   "execution_count": 18,
   "id": "cc2a9455",
   "metadata": {},
   "outputs": [
    {
     "data": {
      "text/html": [
       "<div>\n",
       "<style scoped>\n",
       "    .dataframe tbody tr th:only-of-type {\n",
       "        vertical-align: middle;\n",
       "    }\n",
       "\n",
       "    .dataframe tbody tr th {\n",
       "        vertical-align: top;\n",
       "    }\n",
       "\n",
       "    .dataframe thead th {\n",
       "        text-align: right;\n",
       "    }\n",
       "</style>\n",
       "<table border=\"1\" class=\"dataframe\">\n",
       "  <thead>\n",
       "    <tr style=\"text-align: right;\">\n",
       "      <th></th>\n",
       "      <th>client</th>\n",
       "      <th>broker_account</th>\n",
       "      <th>strategy</th>\n",
       "      <th>start_dt</th>\n",
       "      <th>end_dt</th>\n",
       "      <th>dob</th>\n",
       "    </tr>\n",
       "  </thead>\n",
       "  <tbody>\n",
       "    <tr>\n",
       "      <th>5031</th>\n",
       "      <td>User_2111</td>\n",
       "      <td>Broker_account_2354</td>\n",
       "      <td>Strategy_22</td>\n",
       "      <td>2020-05-04 14:30:15</td>\n",
       "      <td>2020-05-04 14:31:15</td>\n",
       "      <td>1986-03-14</td>\n",
       "    </tr>\n",
       "    <tr>\n",
       "      <th>5032</th>\n",
       "      <td>User_2111</td>\n",
       "      <td>Broker_account_2354</td>\n",
       "      <td>Strategy_22</td>\n",
       "      <td>2020-05-04 14:30:15</td>\n",
       "      <td>2020-05-04 14:31:15</td>\n",
       "      <td>1986-03-14</td>\n",
       "    </tr>\n",
       "  </tbody>\n",
       "</table>\n",
       "</div>"
      ],
      "text/plain": [
       "         client       broker_account     strategy            start_dt  \\\n",
       "5031  User_2111  Broker_account_2354  Strategy_22 2020-05-04 14:30:15   \n",
       "5032  User_2111  Broker_account_2354  Strategy_22 2020-05-04 14:30:15   \n",
       "\n",
       "                  end_dt        dob  \n",
       "5031 2020-05-04 14:31:15 1986-03-14  \n",
       "5032 2020-05-04 14:31:15 1986-03-14  "
      ]
     },
     "execution_count": 18,
     "metadata": {},
     "output_type": "execute_result"
    }
   ],
   "source": [
    "df[df.duplicated(keep=False)]"
   ]
  },
  {
   "cell_type": "markdown",
   "id": "62417e97",
   "metadata": {},
   "source": [
    "Полный дубликат по пользователю User_2111 и брокерскому счету 2354. Оставим пока под вопросом (как вариант - кейс для разработчиков, почему присутствует дубликат), но надо еще проверить, не всплывет ли данная записи в связи с другими аномалиями."
   ]
  },
  {
   "cell_type": "markdown",
   "id": "4d16467b",
   "metadata": {},
   "source": [
    "### **Возраст клиентов на момент открытия стратегии**"
   ]
  },
  {
   "cell_type": "code",
   "execution_count": 19,
   "id": "ca41046a",
   "metadata": {},
   "outputs": [],
   "source": [
    "# Функция для расчета возраста клиента на момент начала стратегии\n",
    "def age_in_years(row):\n",
    "    rd = relativedelta.relativedelta(row['start_dt'], row['dob'])\n",
    "    return rd.years\n",
    "\n",
    "df['age_of_open'] = df.apply(age_in_years, axis=1)"
   ]
  },
  {
   "cell_type": "code",
   "execution_count": 20,
   "id": "1f85087e",
   "metadata": {},
   "outputs": [
    {
     "data": {
      "text/html": [
       "<div>\n",
       "<style scoped>\n",
       "    .dataframe tbody tr th:only-of-type {\n",
       "        vertical-align: middle;\n",
       "    }\n",
       "\n",
       "    .dataframe tbody tr th {\n",
       "        vertical-align: top;\n",
       "    }\n",
       "\n",
       "    .dataframe thead th {\n",
       "        text-align: right;\n",
       "    }\n",
       "</style>\n",
       "<table border=\"1\" class=\"dataframe\">\n",
       "  <thead>\n",
       "    <tr style=\"text-align: right;\">\n",
       "      <th></th>\n",
       "      <th>client</th>\n",
       "      <th>broker_account</th>\n",
       "      <th>strategy</th>\n",
       "      <th>start_dt</th>\n",
       "      <th>end_dt</th>\n",
       "      <th>dob</th>\n",
       "      <th>age_of_open</th>\n",
       "    </tr>\n",
       "  </thead>\n",
       "  <tbody>\n",
       "    <tr>\n",
       "      <th>11306</th>\n",
       "      <td>User_6066</td>\n",
       "      <td>Broker_account_7044</td>\n",
       "      <td>Strategy_59</td>\n",
       "      <td>2020-08-07 16:48:07</td>\n",
       "      <td>NaT</td>\n",
       "      <td>2015-04-07</td>\n",
       "      <td>5</td>\n",
       "    </tr>\n",
       "  </tbody>\n",
       "</table>\n",
       "</div>"
      ],
      "text/plain": [
       "          client       broker_account     strategy            start_dt end_dt  \\\n",
       "11306  User_6066  Broker_account_7044  Strategy_59 2020-08-07 16:48:07    NaT   \n",
       "\n",
       "             dob  age_of_open  \n",
       "11306 2015-04-07            5  "
      ]
     },
     "execution_count": 20,
     "metadata": {},
     "output_type": "execute_result"
    }
   ],
   "source": [
    "# Проверим, сколько имеется несовершеннолетних клиентов\n",
    "df.query('age_of_open < 18')"
   ]
  },
  {
   "cell_type": "markdown",
   "id": "52bde28c",
   "metadata": {},
   "source": [
    "У нас один несовершеннолетний клиент, которому на момент открытия стратегии было 5 лет. Это User_6066. Данную информацию передаем в юридический отдел.\n",
    "\n",
    "Проверим еще на всякий случай, нет ли клиентов с одним номером, но разными датами рождения."
   ]
  },
  {
   "cell_type": "code",
   "execution_count": 21,
   "id": "d7a391ef",
   "metadata": {},
   "outputs": [
    {
     "data": {
      "text/plain": [
       "0"
      ]
     },
     "execution_count": 21,
     "metadata": {},
     "output_type": "execute_result"
    }
   ],
   "source": [
    "len(df.groupby('client')['dob'].agg('nunique').to_frame('cnt').query('cnt>1'))"
   ]
  },
  {
   "cell_type": "markdown",
   "id": "1aca558b",
   "metadata": {},
   "source": [
    "### **Аномалии в гистограммах открытия и закрытия стратегий**"
   ]
  },
  {
   "cell_type": "code",
   "execution_count": 22,
   "id": "ad17dbbc",
   "metadata": {},
   "outputs": [],
   "source": [
    "# Выделим из времени начала и окончания только дату для удобства визуализации \n",
    "df['start_dt_day'] = df['start_dt'].dt.date\n",
    "df['start_dt_day'] = pd.to_datetime(df['start_dt_day'], format='%Y-%m-%d')\n",
    "df['end_dt_day'] = df['end_dt'].dt.date\n",
    "df['end_dt_day'] = pd.to_datetime(df['end_dt_day'], format='%Y-%m-%d')"
   ]
  },
  {
   "cell_type": "code",
   "execution_count": 23,
   "id": "a624fa43",
   "metadata": {},
   "outputs": [
    {
     "data": {
      "text/plain": [
       "73"
      ]
     },
     "execution_count": 23,
     "metadata": {},
     "output_type": "execute_result"
    }
   ],
   "source": [
    "df.end_dt_day.nunique()"
   ]
  },
  {
   "cell_type": "code",
   "execution_count": 24,
   "id": "3b2bc4b9",
   "metadata": {},
   "outputs": [
    {
     "data": {
      "image/png": "[encoded data removed]",
      "text/plain": [
       "<Figure size 720x360 with 1 Axes>"
      ]
     },
     "metadata": {},
     "output_type": "display_data"
    }
   ],
   "source": [
    "fig, ax = plt.subplots(figsize=(10,5))\n",
    "sns.histplot(df.end_dt_day, bins=73, color='tomato')\n",
    "\n",
    "plt.title('Распределение числа закрытий по датам')\n",
    "plt.xlabel('')\n",
    "plt.ylabel('кол-во завершенных стратегий')\n",
    "plt.xticks(rotation=45)\n",
    "plt.show();"
   ]
  },
  {
   "cell_type": "code",
   "execution_count": 25,
   "id": "5207e07b",
   "metadata": {},
   "outputs": [
    {
     "data": {
      "text/plain": [
       "Timestamp('2020-05-04 00:00:00')"
      ]
     },
     "execution_count": 25,
     "metadata": {},
     "output_type": "execute_result"
    }
   ],
   "source": [
    "df.end_dt_day.min()"
   ]
  },
  {
   "cell_type": "code",
   "execution_count": 26,
   "id": "1d111aa9",
   "metadata": {},
   "outputs": [
    {
     "data": {
      "text/plain": [
       "client             1\n",
       "broker_account     1\n",
       "strategy          33\n",
       "start_dt           1\n",
       "end_dt             1\n",
       "dob                1\n",
       "age_of_open        1\n",
       "start_dt_day       1\n",
       "end_dt_day         1\n",
       "dtype: int64"
      ]
     },
     "execution_count": 26,
     "metadata": {},
     "output_type": "execute_result"
    }
   ],
   "source": [
    "df.query('end_dt_day == \"2020-05-04\"').apply('nunique')"
   ]
  },
  {
   "cell_type": "code",
   "execution_count": 27,
   "id": "bd9fc64c",
   "metadata": {},
   "outputs": [
    {
     "data": {
      "text/html": [
       "<div>\n",
       "<style scoped>\n",
       "    .dataframe tbody tr th:only-of-type {\n",
       "        vertical-align: middle;\n",
       "    }\n",
       "\n",
       "    .dataframe tbody tr th {\n",
       "        vertical-align: top;\n",
       "    }\n",
       "\n",
       "    .dataframe thead th {\n",
       "        text-align: right;\n",
       "    }\n",
       "</style>\n",
       "<table border=\"1\" class=\"dataframe\">\n",
       "  <thead>\n",
       "    <tr style=\"text-align: right;\">\n",
       "      <th></th>\n",
       "      <th>client</th>\n",
       "      <th>broker_account</th>\n",
       "      <th>strategy</th>\n",
       "      <th>start_dt</th>\n",
       "      <th>end_dt</th>\n",
       "      <th>dob</th>\n",
       "      <th>age_of_open</th>\n",
       "      <th>start_dt_day</th>\n",
       "      <th>end_dt_day</th>\n",
       "    </tr>\n",
       "  </thead>\n",
       "  <tbody>\n",
       "    <tr>\n",
       "      <th>5008</th>\n",
       "      <td>User_2111</td>\n",
       "      <td>Broker_account_2354</td>\n",
       "      <td>Strategy_1</td>\n",
       "      <td>2020-05-04 14:30:15</td>\n",
       "      <td>2020-05-04 14:31:15</td>\n",
       "      <td>1986-03-14</td>\n",
       "      <td>34</td>\n",
       "      <td>2020-05-04</td>\n",
       "      <td>2020-05-04</td>\n",
       "    </tr>\n",
       "    <tr>\n",
       "      <th>5009</th>\n",
       "      <td>User_2111</td>\n",
       "      <td>Broker_account_2354</td>\n",
       "      <td>Strategy_2</td>\n",
       "      <td>2020-05-04 14:30:15</td>\n",
       "      <td>2020-05-04 14:31:15</td>\n",
       "      <td>1986-03-14</td>\n",
       "      <td>34</td>\n",
       "      <td>2020-05-04</td>\n",
       "      <td>2020-05-04</td>\n",
       "    </tr>\n",
       "    <tr>\n",
       "      <th>5010</th>\n",
       "      <td>User_2111</td>\n",
       "      <td>Broker_account_2354</td>\n",
       "      <td>Strategy_3</td>\n",
       "      <td>2020-05-04 14:30:15</td>\n",
       "      <td>2020-05-04 14:31:15</td>\n",
       "      <td>1986-03-14</td>\n",
       "      <td>34</td>\n",
       "      <td>2020-05-04</td>\n",
       "      <td>2020-05-04</td>\n",
       "    </tr>\n",
       "    <tr>\n",
       "      <th>5011</th>\n",
       "      <td>User_2111</td>\n",
       "      <td>Broker_account_2354</td>\n",
       "      <td>Strategy_4</td>\n",
       "      <td>2020-05-04 14:30:15</td>\n",
       "      <td>2020-05-04 14:31:15</td>\n",
       "      <td>1986-03-14</td>\n",
       "      <td>34</td>\n",
       "      <td>2020-05-04</td>\n",
       "      <td>2020-05-04</td>\n",
       "    </tr>\n",
       "    <tr>\n",
       "      <th>5012</th>\n",
       "      <td>User_2111</td>\n",
       "      <td>Broker_account_2354</td>\n",
       "      <td>Strategy_5</td>\n",
       "      <td>2020-05-04 14:30:15</td>\n",
       "      <td>2020-05-04 14:31:15</td>\n",
       "      <td>1986-03-14</td>\n",
       "      <td>34</td>\n",
       "      <td>2020-05-04</td>\n",
       "      <td>2020-05-04</td>\n",
       "    </tr>\n",
       "  </tbody>\n",
       "</table>\n",
       "</div>"
      ],
      "text/plain": [
       "         client       broker_account    strategy            start_dt  \\\n",
       "5008  User_2111  Broker_account_2354  Strategy_1 2020-05-04 14:30:15   \n",
       "5009  User_2111  Broker_account_2354  Strategy_2 2020-05-04 14:30:15   \n",
       "5010  User_2111  Broker_account_2354  Strategy_3 2020-05-04 14:30:15   \n",
       "5011  User_2111  Broker_account_2354  Strategy_4 2020-05-04 14:30:15   \n",
       "5012  User_2111  Broker_account_2354  Strategy_5 2020-05-04 14:30:15   \n",
       "\n",
       "                  end_dt        dob  age_of_open start_dt_day end_dt_day  \n",
       "5008 2020-05-04 14:31:15 1986-03-14           34   2020-05-04 2020-05-04  \n",
       "5009 2020-05-04 14:31:15 1986-03-14           34   2020-05-04 2020-05-04  \n",
       "5010 2020-05-04 14:31:15 1986-03-14           34   2020-05-04 2020-05-04  \n",
       "5011 2020-05-04 14:31:15 1986-03-14           34   2020-05-04 2020-05-04  \n",
       "5012 2020-05-04 14:31:15 1986-03-14           34   2020-05-04 2020-05-04  "
      ]
     },
     "execution_count": 27,
     "metadata": {},
     "output_type": "execute_result"
    }
   ],
   "source": [
    "df.query('end_dt_day == \"2020-05-04\"').head()"
   ]
  },
  {
   "cell_type": "markdown",
   "id": "e05f7c89",
   "metadata": {},
   "source": [
    "В ситуации со всплеском закрытий в мае 2020 года присутствуют явные аномалии: 4 мая 2020 года один и тот же клиент User_2111 закрыл сразу 33 стратегии, оформленные на один и тот же брокерский счет, причем открытие по всем стратегиям произошло в тот же самый день на минуту раньше. Закрытие всех стратегий было произведено одновременно, секунда в секунду. Открытия всех 33 стратегий также совпадают по времени до секунды. Т.е. новая стратегия открывалась, когда предыдущая еще не была закрыта. Таким образом получается, что все 33 стратегии были оформлены на один и тот же счет одновременно, что, по идее, технически должно быть невозможно. Кстати, это именно тот клиент, который \"вылез\" у нас в дубликатах.\n",
    "Направляем этот кейс в отдел к разработчикам для выяснения причин этого бага.\n",
    "\n",
    "Проверим, есть ли еще клиенты, у которых произошло открытие нескольких стратегий одновременно на один счет."
   ]
  },
  {
   "cell_type": "code",
   "execution_count": 28,
   "id": "ce484f6c",
   "metadata": {},
   "outputs": [],
   "source": [
    "# Создадим датафрейм с данными, отсорированными по клиентам, брокерским счетам и дате открытия стратегии\n",
    "# Далее создадим столбец-флаг, где проставим единицы для брокерских счетов, где открытие новой стратегии \n",
    "# произошло раньше закрытия предыдущей\n",
    "df_sorted = df.sort_values(by=['client', 'broker_account', 'start_dt']).reset_index()\n",
    "df_sorted['flag'] = 0\n",
    "for i in range(1, len(df_sorted)):\n",
    "    if df_sorted.loc[i, 'broker_account'] == df_sorted.loc[i-1, 'broker_account'] \\\n",
    "    and df_sorted.loc[i-1, 'end_dt'] > df_sorted.loc[i, 'start_dt']:\n",
    "        df_sorted.loc[i, 'flag'] = 1\n",
    "    else:\n",
    "        df_sorted.loc[i, 'flag'] = 0"
   ]
  },
  {
   "cell_type": "code",
   "execution_count": 29,
   "id": "fb7fd6b7",
   "metadata": {},
   "outputs": [
    {
     "data": {
      "text/plain": [
       "array(['User_2111'], dtype=object)"
      ]
     },
     "execution_count": 29,
     "metadata": {},
     "output_type": "execute_result"
    }
   ],
   "source": [
    "df_sorted.query('flag == 1').client.unique()"
   ]
  },
  {
   "cell_type": "markdown",
   "id": "25a9f2e8",
   "metadata": {},
   "source": [
    "Других клиентов, помимо User_2111 с \"пересекающимися\" стратегиями на одном счете, нет.\n",
    "\n",
    "Теперь посмотрим поподробнее на аномальный \"всплеск\" по кол-ву закрытых стратегий в декабре. Одновременно можно посмотреть, как распределялись по датам \"открытия\" стратегий: возможно, всплеск наблюдался как по закрытиями, так и по открытиям. Для этого визуализируем на одном графике распределение по датам кол-ва уникальных клиентов, запускающих и завершающих стратегии."
   ]
  },
  {
   "cell_type": "code",
   "execution_count": 30,
   "id": "2774e76a",
   "metadata": {},
   "outputs": [],
   "source": [
    "clients_close_pd = df.groupby(['end_dt_day'])['client'].agg('nunique').reset_index()\n",
    "clients_start_pd = df.groupby(['start_dt_day'])['client'].agg('nunique').reset_index()\n",
    "strats_close_pd = df.groupby(['end_dt_day'])['strategy'].agg('nunique').reset_index()\n",
    "strats_start_pd = df.groupby(['start_dt_day'])['strategy'].agg('nunique').reset_index()"
   ]
  },
  {
   "cell_type": "code",
   "execution_count": 31,
   "id": "232c3a69",
   "metadata": {},
   "outputs": [
    {
     "data": {
      "image/png": "[encoded data removed]",
      "text/plain": [
       "<Figure size 864x360 with 1 Axes>"
      ]
     },
     "metadata": {},
     "output_type": "display_data"
    }
   ],
   "source": [
    "fig, ax = plt.subplots(figsize=(12,5))\n",
    "sns.scatterplot(x='end_dt_day', y='client', data=clients_close_pd, s=45, color='tomato')\n",
    "sns.scatterplot(x='start_dt_day', y='client', data=clients_start_pd, s=45, color='lightgreen')\n",
    "\n",
    "plt.title('Кол-во уникальных клиентов, начинавших и закрываших стратегии, по дням')\n",
    "plt.xlabel('')\n",
    "plt.ylabel('число клиентов')\n",
    "plt.xticks(rotation=45)\n",
    "plt.legend(['окончание', 'начало'], loc='upper left')\n",
    "plt.show();"
   ]
  },
  {
   "cell_type": "code",
   "execution_count": 32,
   "id": "28ece227",
   "metadata": {},
   "outputs": [
    {
     "data": {
      "image/png": "[encoded data removed]",
      "text/plain": [
       "<Figure size 864x360 with 1 Axes>"
      ]
     },
     "metadata": {},
     "output_type": "display_data"
    }
   ],
   "source": [
    "fig, ax = plt.subplots(figsize=(12,5))\n",
    "sns.scatterplot(x='end_dt_day', y='strategy', data=strats_close_pd, s=45, color='tomato')\n",
    "sns.scatterplot(x='start_dt_day', y='strategy', data=strats_start_pd, s=45, color='lightgreen')\n",
    "\n",
    "plt.title('Кол-во уникальных стратегий, начатых и завершенных, по дням')\n",
    "plt.xlabel('')\n",
    "plt.ylabel('число стратегий')\n",
    "plt.xticks(rotation=45)\n",
    "plt.legend(['окончание', 'начало'], loc='upper left')\n",
    "plt.show();"
   ]
  },
  {
   "cell_type": "code",
   "execution_count": 33,
   "id": "79668afe",
   "metadata": {},
   "outputs": [
    {
     "data": {
      "text/html": [
       "<div>\n",
       "<style scoped>\n",
       "    .dataframe tbody tr th:only-of-type {\n",
       "        vertical-align: middle;\n",
       "    }\n",
       "\n",
       "    .dataframe tbody tr th {\n",
       "        vertical-align: top;\n",
       "    }\n",
       "\n",
       "    .dataframe thead th {\n",
       "        text-align: right;\n",
       "    }\n",
       "</style>\n",
       "<table border=\"1\" class=\"dataframe\">\n",
       "  <thead>\n",
       "    <tr style=\"text-align: right;\">\n",
       "      <th></th>\n",
       "      <th>start_dt_day</th>\n",
       "      <th>client</th>\n",
       "    </tr>\n",
       "  </thead>\n",
       "  <tbody>\n",
       "    <tr>\n",
       "      <th>316</th>\n",
       "      <td>2020-12-07</td>\n",
       "      <td>572</td>\n",
       "    </tr>\n",
       "    <tr>\n",
       "      <th>312</th>\n",
       "      <td>2020-12-03</td>\n",
       "      <td>430</td>\n",
       "    </tr>\n",
       "  </tbody>\n",
       "</table>\n",
       "</div>"
      ],
      "text/plain": [
       "    start_dt_day  client\n",
       "316   2020-12-07     572\n",
       "312   2020-12-03     430"
      ]
     },
     "execution_count": 33,
     "metadata": {},
     "output_type": "execute_result"
    }
   ],
   "source": [
    "# Выведем, сколько уникальных клиентов запустили стратегии в \"пиковые\" дни\n",
    "clients_start_pd.sort_values(by='client', ascending=False).head(2)"
   ]
  },
  {
   "cell_type": "code",
   "execution_count": 34,
   "id": "31b1c93e",
   "metadata": {},
   "outputs": [
    {
     "data": {
      "text/html": [
       "<div>\n",
       "<style scoped>\n",
       "    .dataframe tbody tr th:only-of-type {\n",
       "        vertical-align: middle;\n",
       "    }\n",
       "\n",
       "    .dataframe tbody tr th {\n",
       "        vertical-align: top;\n",
       "    }\n",
       "\n",
       "    .dataframe thead th {\n",
       "        text-align: right;\n",
       "    }\n",
       "</style>\n",
       "<table border=\"1\" class=\"dataframe\">\n",
       "  <thead>\n",
       "    <tr style=\"text-align: right;\">\n",
       "      <th></th>\n",
       "      <th>end_dt_day</th>\n",
       "      <th>client</th>\n",
       "    </tr>\n",
       "  </thead>\n",
       "  <tbody>\n",
       "    <tr>\n",
       "      <th>1</th>\n",
       "      <td>2020-12-07</td>\n",
       "      <td>495</td>\n",
       "    </tr>\n",
       "  </tbody>\n",
       "</table>\n",
       "</div>"
      ],
      "text/plain": [
       "  end_dt_day  client\n",
       "1 2020-12-07     495"
      ]
     },
     "execution_count": 34,
     "metadata": {},
     "output_type": "execute_result"
    }
   ],
   "source": [
    "# Выведем, сколько уникальных клиентов закрыли стратегии в пиковый день\n",
    "clients_close_pd.sort_values(by='client', ascending=False).head(1)"
   ]
  },
  {
   "cell_type": "markdown",
   "id": "8463432e",
   "metadata": {},
   "source": [
    "На первом графике, где распределено кол-во уникальных клиентов, открывавших и закрывавших стратегии, по дням, видны три аномальных выброса: два по открытым стратегиям (3 и 7 декабря 2020 г. 430 и 572 клиента соответственно), и один - по закрытым (7 декабря, 495 клиента). В остальные дни года соответствующие показатели были более чем в два с половиной раза ниже. На втором графике (распределение числа открытых и закрытых стратегий по дням) таких аномальных выбросов, в несколько раз превышающих обычные показатели, не просматривается. Судя по всему, всплеск \"активности\" 7 декабря была связан с какими-то конкретными стратегиями.  \n",
    "\n",
    "Проверим, насколько равномерно распределялась выходы клиентов по стратегиям. "
   ]
  },
  {
   "cell_type": "code",
   "execution_count": 35,
   "id": "d0b06aa5",
   "metadata": {},
   "outputs": [
    {
     "data": {
      "text/plain": [
       "Strategy_258    404\n",
       "Strategy_239      8\n",
       "Strategy_236      7\n",
       "Strategy_234      6\n",
       "Strategy_59       5\n",
       "Strategy_16       5\n",
       "Strategy_148      5\n",
       "Strategy_362      4\n",
       "Strategy_238      4\n",
       "Strategy_17       4\n",
       "Name: strategy, dtype: int64"
      ]
     },
     "execution_count": 35,
     "metadata": {},
     "output_type": "execute_result"
    }
   ],
   "source": [
    "# Проверим количественное распределение\n",
    "df.query('end_dt_day == \"2020-12-07\"').strategy.value_counts().head(10)"
   ]
  },
  {
   "cell_type": "code",
   "execution_count": 36,
   "id": "e520743f",
   "metadata": {},
   "outputs": [
    {
     "data": {
      "text/plain": [
       "Strategy_258    0.753731\n",
       "Strategy_239    0.014925\n",
       "Strategy_236    0.013060\n",
       "Strategy_234    0.011194\n",
       "Strategy_59     0.009328\n",
       "Strategy_16     0.009328\n",
       "Strategy_148    0.009328\n",
       "Strategy_362    0.007463\n",
       "Strategy_238    0.007463\n",
       "Strategy_17     0.007463\n",
       "Name: strategy, dtype: float64"
      ]
     },
     "execution_count": 36,
     "metadata": {},
     "output_type": "execute_result"
    }
   ],
   "source": [
    "# Проверим относительное распределение\n",
    "df.query('end_dt_day == \"2020-12-07\"').strategy.value_counts(normalize=True).head(10)"
   ]
  },
  {
   "cell_type": "markdown",
   "id": "7a85e691",
   "metadata": {},
   "source": [
    "Три четверти всех уходов 7 декабря (75,4%) пришлось на одну стратегию (Strategy_258), по остальным стратегиям данные распределились плюс-минус равномерно (1,5% и менее). Получается, что аномалия связана именно с ней, если не брать во внимание 258-ую стратегию, показатели за 7 декабря не выбились бы из общей картины. Такой резкий отток из одной стратегии - повод обратить внимание маркетологов.\n",
    "\n",
    "Посмотрим, присутствует ли такой же перекос в случае со стратегиями, открытыми 7 декабря."
   ]
  },
  {
   "cell_type": "code",
   "execution_count": 37,
   "id": "22adc6d4",
   "metadata": {},
   "outputs": [
    {
     "data": {
      "text/plain": [
       "Strategy_237    429\n",
       "Strategy_264     18\n",
       "Strategy_234     13\n",
       "Strategy_16      12\n",
       "Strategy_239     10\n",
       "Strategy_245      8\n",
       "Strategy_365      8\n",
       "Strategy_362      8\n",
       "Strategy_18       7\n",
       "Strategy_247      7\n",
       "Name: strategy, dtype: int64"
      ]
     },
     "execution_count": 37,
     "metadata": {},
     "output_type": "execute_result"
    }
   ],
   "source": [
    "df.query('start_dt_day == \"2020-12-07\"').strategy.value_counts().head(10)"
   ]
  },
  {
   "cell_type": "code",
   "execution_count": 38,
   "id": "8cd77b8d",
   "metadata": {},
   "outputs": [
    {
     "data": {
      "text/plain": [
       "Strategy_237    0.680952\n",
       "Strategy_264    0.028571\n",
       "Strategy_234    0.020635\n",
       "Strategy_16     0.019048\n",
       "Strategy_239    0.015873\n",
       "Strategy_245    0.012698\n",
       "Strategy_365    0.012698\n",
       "Strategy_362    0.012698\n",
       "Strategy_18     0.011111\n",
       "Strategy_247    0.011111\n",
       "Name: strategy, dtype: float64"
      ]
     },
     "execution_count": 38,
     "metadata": {},
     "output_type": "execute_result"
    }
   ],
   "source": [
    "df.query('start_dt_day == \"2020-12-07\"').strategy.value_counts(normalize=True).head(10)"
   ]
  },
  {
   "cell_type": "markdown",
   "id": "2e7e76dd",
   "metadata": {},
   "source": [
    "Со стратегиями, открытыми 7 декабря, ситуации та же: 68% всех открытий приходится на одну стратегию (Strategy_237). \n",
    "\n",
    "Стоит еще проверить пересечения между клиентами, открывавшими и закрывавшими стратегии 7 декабря. Возможно, переток из одной стратегии (Strategy_258) в другую (Strategy_237) в этот день совершали одни и те же клиенты."
   ]
  },
  {
   "cell_type": "code",
   "execution_count": 39,
   "id": "3cb9cafc",
   "metadata": {},
   "outputs": [],
   "source": [
    "# Создадим списки клиентов, которые 7 декабря открыли стратегию 237 и которые закрыли стратегию 258\n",
    "clients_open_list = df.query('start_dt_day == \"2020-12-07\"').query('strategy == \"Strategy_237\"').client.unique()\n",
    "clients_close_list = df.query('end_dt_day == \"2020-12-07\"').query('strategy == \"Strategy_258\"').client.unique()"
   ]
  },
  {
   "cell_type": "code",
   "execution_count": 40,
   "id": "7269e6a9",
   "metadata": {},
   "outputs": [],
   "source": [
    "# Зададим функцию для отбора клиентов, которые есть в обоих списках\n",
    "def intersection_clients(closed, opened):\n",
    "    intrscted = []\n",
    "    for i in range(len(closed)):\n",
    "        if closed[i] in opened:\n",
    "            intrscted.append(closed[i])\n",
    "    return intrscted            "
   ]
  },
  {
   "cell_type": "code",
   "execution_count": 41,
   "id": "23ecdbea",
   "metadata": {},
   "outputs": [
    {
     "data": {
      "text/plain": [
       "399"
      ]
     },
     "execution_count": 41,
     "metadata": {},
     "output_type": "execute_result"
    }
   ],
   "source": [
    "# Посмотрим, сколько всего клиентов попали в оба списка одновременно\n",
    "intersection_list = intersection_clients(clients_close_list, clients_open_list)\n",
    "len(intersection_list)"
   ]
  },
  {
   "cell_type": "code",
   "execution_count": 42,
   "id": "a15e7186",
   "metadata": {},
   "outputs": [
    {
     "data": {
      "text/plain": [
       "client            399\n",
       "broker_account    400\n",
       "strategy            1\n",
       "start_dt          400\n",
       "end_dt              1\n",
       "dob               351\n",
       "age_of_open        12\n",
       "start_dt_day      160\n",
       "end_dt_day          1\n",
       "dtype: int64"
      ]
     },
     "execution_count": 42,
     "metadata": {},
     "output_type": "execute_result"
    }
   ],
   "source": [
    "# Проверим кол-во уникальных данных по закрытой стратегии\n",
    "(\n",
    "    df[df['client'].isin(intersection_list)]\n",
    "    .query('end_dt_day == \"2020-12-07\"')\n",
    "    .query('strategy == \"Strategy_258\"').apply('nunique')\n",
    ")"
   ]
  },
  {
   "cell_type": "code",
   "execution_count": 43,
   "id": "a66507fd",
   "metadata": {},
   "outputs": [
    {
     "data": {
      "text/plain": [
       "client            399\n",
       "broker_account    401\n",
       "strategy            1\n",
       "start_dt            1\n",
       "end_dt            126\n",
       "dob               351\n",
       "age_of_open        11\n",
       "start_dt_day        1\n",
       "end_dt_day         52\n",
       "dtype: int64"
      ]
     },
     "execution_count": 43,
     "metadata": {},
     "output_type": "execute_result"
    }
   ],
   "source": [
    "# Проверим кол-во уникальных данных по открытой стратегии\n",
    "(\n",
    "    df[df['client'].isin(intersection_list)]\n",
    "    .query('start_dt_day == \"2020-12-07\"')\n",
    "    .query('strategy == \"Strategy_237\"').apply('nunique')\n",
    ")"
   ]
  },
  {
   "cell_type": "code",
   "execution_count": 44,
   "id": "3a20a6ce",
   "metadata": {},
   "outputs": [
    {
     "data": {
      "text/plain": [
       "array(['2020-12-07T20:49:09.000000000'], dtype='datetime64[ns]')"
      ]
     },
     "execution_count": 44,
     "metadata": {},
     "output_type": "execute_result"
    }
   ],
   "source": [
    "(\n",
    "    df[df['client'].isin(intersection_list)]\n",
    "    .query('end_dt_day == \"2020-12-07\"')\n",
    "    .query('strategy == \"Strategy_258\"').end_dt.unique()\n",
    ")"
   ]
  },
  {
   "cell_type": "code",
   "execution_count": 45,
   "id": "635eda0b",
   "metadata": {},
   "outputs": [
    {
     "data": {
      "text/plain": [
       "array(['2020-12-07T20:49:10.000000000'], dtype='datetime64[ns]')"
      ]
     },
     "execution_count": 45,
     "metadata": {},
     "output_type": "execute_result"
    }
   ],
   "source": [
    "(\n",
    "    df[df['client'].isin(intersection_list)]\n",
    "    .query('start_dt_day == \"2020-12-07\"')\n",
    "    .query('strategy == \"Strategy_237\"').start_dt.unique()\n",
    ")"
   ]
  },
  {
   "cell_type": "markdown",
   "id": "81128089",
   "metadata": {},
   "source": [
    "Всего получилось 399 пересечений по клиентам. Т.е. почти все, кто \"обеспечил\" нам аномальный скачок показателей 7 декабря 2020 г., закрыли в этот день стратегию 258 и открыли стратегию 237. \n",
    "\n",
    "Еще одна странность заключается в том, что закрытие и открытие стратегии произошло у всех в одно и то же время с точностью до секунды (кол-во уникальных значений end_dt в первом случае и start_dt во втором равно 1), а разница между окончанием и началом стратегии составляла всего 1 секунду, т.е. процесс, судя по всему, был осуществлен автоматически.\n",
    "\n",
    "По остальным показателям таких аномалий не просматривается: закрытая стратегия 258 открывалась клиентами в разное время и даже в разные дни (кол-во уникальных значений start_dt_day 160). Что касается действий клиентов после открытия стратегии 237, то они тоже разнятся: 126 человек впоследствии закрыли ее (в разные дни), у остальных она пока еще действует. \n",
    "\n",
    "Отправляем этот кейс для уточнения ситуации в отдел маркетинга."
   ]
  },
  {
   "cell_type": "code",
   "execution_count": 46,
   "id": "15b79203",
   "metadata": {},
   "outputs": [
    {
     "data": {
      "text/plain": [
       "Strategy_241    258\n",
       "Strategy_264     24\n",
       "Strategy_252     22\n",
       "Strategy_255     14\n",
       "Strategy_247     12\n",
       "Name: strategy, dtype: int64"
      ]
     },
     "execution_count": 46,
     "metadata": {},
     "output_type": "execute_result"
    }
   ],
   "source": [
    "df.query('start_dt_day == \"2020-12-03\"').strategy.value_counts().head()"
   ]
  },
  {
   "cell_type": "code",
   "execution_count": 47,
   "id": "75bbcc08",
   "metadata": {},
   "outputs": [
    {
     "data": {
      "text/plain": [
       "Strategy_241    0.557235\n",
       "Strategy_264    0.051836\n",
       "Strategy_252    0.047516\n",
       "Strategy_255    0.030238\n",
       "Strategy_247    0.025918\n",
       "Name: strategy, dtype: float64"
      ]
     },
     "execution_count": 47,
     "metadata": {},
     "output_type": "execute_result"
    }
   ],
   "source": [
    "df.query('start_dt_day == \"2020-12-03\"').strategy.value_counts(normalize=True).head()"
   ]
  },
  {
   "cell_type": "code",
   "execution_count": 48,
   "id": "0fc53691",
   "metadata": {},
   "outputs": [
    {
     "data": {
      "text/plain": [
       "client            257\n",
       "broker_account    258\n",
       "strategy            1\n",
       "start_dt            1\n",
       "end_dt             52\n",
       "dob               231\n",
       "age_of_open        11\n",
       "start_dt_day        1\n",
       "end_dt_day         34\n",
       "dtype: int64"
      ]
     },
     "execution_count": 48,
     "metadata": {},
     "output_type": "execute_result"
    }
   ],
   "source": [
    "# Проверим кол-во уникальных данных по открытой стратегии\n",
    "(\n",
    "    df.query('start_dt_day == \"2020-12-03\"')\n",
    "    .query('strategy == \"Strategy_241\"').apply('nunique')\n",
    ")"
   ]
  },
  {
   "cell_type": "markdown",
   "id": "5e50ce86",
   "metadata": {},
   "source": [
    "3 декабря наблюдалась схожая ситуация: всплеск активности связан, в основном с одной стратегией: 258 открытий (55,7%) пришлось на стратегию 241. К ней в этот день присоединилось 257 клиентов с 258 брокерских счетов. Причем начало стратегии у всех клиентов опять-таки совпадает секунда в секунду (число уникальных значений start_dt равно 1). \n",
    "\n",
    "Оба кейса по аномальной активности, связанной с единичными стратегиями 3 и 7 декабря, отправляем в отдел маркетинга."
   ]
  },
  {
   "cell_type": "markdown",
   "id": "57246b77",
   "metadata": {},
   "source": [
    "### **Подозрительная активность (аномально часто встречающиеся клиенты, брокерские счета)**"
   ]
  },
  {
   "cell_type": "code",
   "execution_count": 50,
   "id": "b7e3573d",
   "metadata": {},
   "outputs": [
    {
     "data": {
      "text/plain": [
       "User_766      53\n",
       "User_2111     35\n",
       "User_10219    22\n",
       "User_1949     21\n",
       "User_6293     19\n",
       "Name: client, dtype: int64"
      ]
     },
     "execution_count": 50,
     "metadata": {},
     "output_type": "execute_result"
    }
   ],
   "source": [
    "df.client.value_counts().sort_values(ascending=False).head()"
   ]
  },
  {
   "cell_type": "markdown",
   "id": "d161005d",
   "metadata": {},
   "source": [
    "Клиент со счетом 2111 уже вылез у нас выше в связи с подозрительной активностью, теперь проверим клиента со счетом 766, который чаще всего фигурирует у нас в датасете (53 записи)."
   ]
  },
  {
   "cell_type": "code",
   "execution_count": 51,
   "id": "ca636779",
   "metadata": {},
   "outputs": [
    {
     "data": {
      "text/plain": [
       "client             1\n",
       "broker_account    20\n",
       "strategy          18\n",
       "start_dt          53\n",
       "end_dt            45\n",
       "dob                1\n",
       "age_of_open        1\n",
       "start_dt_day      12\n",
       "end_dt_day         7\n",
       "dtype: int64"
      ]
     },
     "execution_count": 51,
     "metadata": {},
     "output_type": "execute_result"
    }
   ],
   "source": [
    "df.query('client == \"User_766\"').apply('nunique')"
   ]
  },
  {
   "cell_type": "markdown",
   "id": "d51066a5",
   "metadata": {},
   "source": [
    "У User_766 20 брокерских счетов, с которых были запущены 18 стратегий. Даты начала стратегий разные, запускались они, судя по всему, по несколько раз (start_dt имеет 53 уникальных значения). Закрывались тоже в разное время. Никаких особых аномалий тут не просматривается, если не считать повышенной активности клиента.\n",
    "\n",
    "Посмотрим теперь брокерские счета на предмет подозрительной активности."
   ]
  },
  {
   "cell_type": "code",
   "execution_count": 52,
   "id": "01ab30e0",
   "metadata": {},
   "outputs": [
    {
     "data": {
      "text/plain": [
       "Broker_account_2354     35\n",
       "Broker_account_11813     5\n",
       "Broker_account_11814     5\n",
       "Broker_account_11811     5\n",
       "Broker_account_7703      4\n",
       "Name: broker_account, dtype: int64"
      ]
     },
     "execution_count": 52,
     "metadata": {},
     "output_type": "execute_result"
    }
   ],
   "source": [
    "df.broker_account.value_counts(ascending=False).head()"
   ]
  },
  {
   "cell_type": "code",
   "execution_count": 53,
   "id": "aefa01dc",
   "metadata": {},
   "outputs": [
    {
     "data": {
      "text/html": [
       "<div>\n",
       "<style scoped>\n",
       "    .dataframe tbody tr th:only-of-type {\n",
       "        vertical-align: middle;\n",
       "    }\n",
       "\n",
       "    .dataframe tbody tr th {\n",
       "        vertical-align: top;\n",
       "    }\n",
       "\n",
       "    .dataframe thead th {\n",
       "        text-align: right;\n",
       "    }\n",
       "</style>\n",
       "<table border=\"1\" class=\"dataframe\">\n",
       "  <thead>\n",
       "    <tr style=\"text-align: right;\">\n",
       "      <th></th>\n",
       "      <th>client</th>\n",
       "      <th>broker_account</th>\n",
       "      <th>strategy</th>\n",
       "      <th>start_dt</th>\n",
       "      <th>end_dt</th>\n",
       "      <th>dob</th>\n",
       "      <th>age_of_open</th>\n",
       "      <th>start_dt_day</th>\n",
       "      <th>end_dt_day</th>\n",
       "    </tr>\n",
       "  </thead>\n",
       "  <tbody>\n",
       "    <tr>\n",
       "      <th>5007</th>\n",
       "      <td>User_2111</td>\n",
       "      <td>Broker_account_2354</td>\n",
       "      <td>Strategy_17</td>\n",
       "      <td>2020-05-04 14:30:15</td>\n",
       "      <td>NaT</td>\n",
       "      <td>1986-03-14</td>\n",
       "      <td>34</td>\n",
       "      <td>2020-05-04</td>\n",
       "      <td>NaT</td>\n",
       "    </tr>\n",
       "  </tbody>\n",
       "</table>\n",
       "</div>"
      ],
      "text/plain": [
       "         client       broker_account     strategy            start_dt end_dt  \\\n",
       "5007  User_2111  Broker_account_2354  Strategy_17 2020-05-04 14:30:15    NaT   \n",
       "\n",
       "            dob  age_of_open start_dt_day end_dt_day  \n",
       "5007 1986-03-14           34   2020-05-04        NaT  "
      ]
     },
     "execution_count": 53,
     "metadata": {},
     "output_type": "execute_result"
    }
   ],
   "source": [
    "df.query('broker_account == \"Broker_account_2354\"').head(1)"
   ]
  },
  {
   "cell_type": "markdown",
   "id": "49bd5e52",
   "metadata": {},
   "source": [
    "Клиент со счетом 2354, который чаще всего встречается в датасете (35 раз) - это снова наш \"подозрительный\" User_2111. \n",
    "\n",
    "Проверим теперь клиентов с большим кол-вом брокерских счетов."
   ]
  },
  {
   "cell_type": "code",
   "execution_count": 54,
   "id": "4741d0b5",
   "metadata": {},
   "outputs": [
    {
     "data": {
      "text/plain": [
       "client\n",
       "User_10219    22\n",
       "User_766      20\n",
       "User_6831     18\n",
       "User_4765     18\n",
       "User_6293     18\n",
       "Name: broker_account, dtype: int64"
      ]
     },
     "execution_count": 54,
     "metadata": {},
     "output_type": "execute_result"
    }
   ],
   "source": [
    "df.groupby('client')['broker_account'].agg('nunique').sort_values(ascending=False).head()"
   ]
  },
  {
   "cell_type": "code",
   "execution_count": 55,
   "id": "c83a24e8",
   "metadata": {},
   "outputs": [
    {
     "data": {
      "text/plain": [
       "client             1\n",
       "broker_account    22\n",
       "strategy           1\n",
       "start_dt          22\n",
       "end_dt             8\n",
       "dob                1\n",
       "age_of_open        1\n",
       "start_dt_day       5\n",
       "end_dt_day         1\n",
       "dtype: int64"
      ]
     },
     "execution_count": 55,
     "metadata": {},
     "output_type": "execute_result"
    }
   ],
   "source": [
    "df.query('client == \"User_10219\"').apply('nunique')"
   ]
  },
  {
   "cell_type": "code",
   "execution_count": 56,
   "id": "af16fd1e",
   "metadata": {},
   "outputs": [
    {
     "data": {
      "text/html": [
       "<div>\n",
       "<style scoped>\n",
       "    .dataframe tbody tr th:only-of-type {\n",
       "        vertical-align: middle;\n",
       "    }\n",
       "\n",
       "    .dataframe tbody tr th {\n",
       "        vertical-align: top;\n",
       "    }\n",
       "\n",
       "    .dataframe thead th {\n",
       "        text-align: right;\n",
       "    }\n",
       "</style>\n",
       "<table border=\"1\" class=\"dataframe\">\n",
       "  <thead>\n",
       "    <tr style=\"text-align: right;\">\n",
       "      <th></th>\n",
       "      <th>client</th>\n",
       "      <th>broker_account</th>\n",
       "      <th>strategy</th>\n",
       "      <th>start_dt</th>\n",
       "      <th>end_dt</th>\n",
       "      <th>dob</th>\n",
       "      <th>age_of_open</th>\n",
       "      <th>start_dt_day</th>\n",
       "      <th>end_dt_day</th>\n",
       "    </tr>\n",
       "  </thead>\n",
       "  <tbody>\n",
       "    <tr>\n",
       "      <th>636</th>\n",
       "      <td>User_10219</td>\n",
       "      <td>Broker_account_14710</td>\n",
       "      <td>Strategy_254</td>\n",
       "      <td>2020-10-30 01:36:38</td>\n",
       "      <td>NaT</td>\n",
       "      <td>1987-06-13</td>\n",
       "      <td>33</td>\n",
       "      <td>2020-10-30</td>\n",
       "      <td>NaT</td>\n",
       "    </tr>\n",
       "    <tr>\n",
       "      <th>637</th>\n",
       "      <td>User_10219</td>\n",
       "      <td>Broker_account_14711</td>\n",
       "      <td>Strategy_254</td>\n",
       "      <td>2020-10-30 01:37:29</td>\n",
       "      <td>NaT</td>\n",
       "      <td>1987-06-13</td>\n",
       "      <td>33</td>\n",
       "      <td>2020-10-30</td>\n",
       "      <td>NaT</td>\n",
       "    </tr>\n",
       "    <tr>\n",
       "      <th>638</th>\n",
       "      <td>User_10219</td>\n",
       "      <td>Broker_account_14712</td>\n",
       "      <td>Strategy_254</td>\n",
       "      <td>2020-10-26 10:25:02</td>\n",
       "      <td>2021-01-26 22:49:56</td>\n",
       "      <td>1987-06-13</td>\n",
       "      <td>33</td>\n",
       "      <td>2020-10-26</td>\n",
       "      <td>2021-01-26</td>\n",
       "    </tr>\n",
       "    <tr>\n",
       "      <th>639</th>\n",
       "      <td>User_10219</td>\n",
       "      <td>Broker_account_14713</td>\n",
       "      <td>Strategy_254</td>\n",
       "      <td>2020-10-26 10:26:00</td>\n",
       "      <td>2021-01-26 22:55:58</td>\n",
       "      <td>1987-06-13</td>\n",
       "      <td>33</td>\n",
       "      <td>2020-10-26</td>\n",
       "      <td>2021-01-26</td>\n",
       "    </tr>\n",
       "    <tr>\n",
       "      <th>640</th>\n",
       "      <td>User_10219</td>\n",
       "      <td>Broker_account_14714</td>\n",
       "      <td>Strategy_254</td>\n",
       "      <td>2020-12-09 15:38:01</td>\n",
       "      <td>2021-01-26 22:49:40</td>\n",
       "      <td>1987-06-13</td>\n",
       "      <td>33</td>\n",
       "      <td>2020-12-09</td>\n",
       "      <td>2021-01-26</td>\n",
       "    </tr>\n",
       "  </tbody>\n",
       "</table>\n",
       "</div>"
      ],
      "text/plain": [
       "         client        broker_account      strategy            start_dt  \\\n",
       "636  User_10219  Broker_account_14710  Strategy_254 2020-10-30 01:36:38   \n",
       "637  User_10219  Broker_account_14711  Strategy_254 2020-10-30 01:37:29   \n",
       "638  User_10219  Broker_account_14712  Strategy_254 2020-10-26 10:25:02   \n",
       "639  User_10219  Broker_account_14713  Strategy_254 2020-10-26 10:26:00   \n",
       "640  User_10219  Broker_account_14714  Strategy_254 2020-12-09 15:38:01   \n",
       "\n",
       "                 end_dt        dob  age_of_open start_dt_day end_dt_day  \n",
       "636                 NaT 1987-06-13           33   2020-10-30        NaT  \n",
       "637                 NaT 1987-06-13           33   2020-10-30        NaT  \n",
       "638 2021-01-26 22:49:56 1987-06-13           33   2020-10-26 2021-01-26  \n",
       "639 2021-01-26 22:55:58 1987-06-13           33   2020-10-26 2021-01-26  \n",
       "640 2021-01-26 22:49:40 1987-06-13           33   2020-12-09 2021-01-26  "
      ]
     },
     "execution_count": 56,
     "metadata": {},
     "output_type": "execute_result"
    }
   ],
   "source": [
    "df.query('client == \"User_10219\"').head(5)"
   ]
  },
  {
   "cell_type": "markdown",
   "id": "4d2b51ed",
   "metadata": {},
   "source": [
    "А вот здесь можно заподозрить аномальную активность. У User_10219 открыто 22 счета под одну стратегию, причем с некоторых счетов привязка к стратегии осуществляется параллельно. Похоже на то, что деньги разных людей разложены по \"разным кошелькам\" под одним аккаунтом - отправляем кейс в отдел безопасности.\n",
    "\n",
    "Проверим, есть ли еще клиенты с большим кол-вом счетов для одной стратегии."
   ]
  },
  {
   "cell_type": "code",
   "execution_count": 57,
   "id": "686fed24",
   "metadata": {},
   "outputs": [
    {
     "data": {
      "text/html": [
       "<div>\n",
       "<style scoped>\n",
       "    .dataframe tbody tr th:only-of-type {\n",
       "        vertical-align: middle;\n",
       "    }\n",
       "\n",
       "    .dataframe tbody tr th {\n",
       "        vertical-align: top;\n",
       "    }\n",
       "\n",
       "    .dataframe thead th {\n",
       "        text-align: right;\n",
       "    }\n",
       "</style>\n",
       "<table border=\"1\" class=\"dataframe\">\n",
       "  <thead>\n",
       "    <tr style=\"text-align: right;\">\n",
       "      <th></th>\n",
       "      <th>client</th>\n",
       "      <th>broker_account</th>\n",
       "      <th>strategy</th>\n",
       "    </tr>\n",
       "  </thead>\n",
       "  <tbody>\n",
       "    <tr>\n",
       "      <th>242</th>\n",
       "      <td>User_10219</td>\n",
       "      <td>22</td>\n",
       "      <td>1</td>\n",
       "    </tr>\n",
       "    <tr>\n",
       "      <th>9235</th>\n",
       "      <td>User_8944</td>\n",
       "      <td>8</td>\n",
       "      <td>1</td>\n",
       "    </tr>\n",
       "    <tr>\n",
       "      <th>2198</th>\n",
       "      <td>User_13407</td>\n",
       "      <td>5</td>\n",
       "      <td>1</td>\n",
       "    </tr>\n",
       "    <tr>\n",
       "      <th>8025</th>\n",
       "      <td>User_7115</td>\n",
       "      <td>5</td>\n",
       "      <td>1</td>\n",
       "    </tr>\n",
       "    <tr>\n",
       "      <th>402</th>\n",
       "      <td>User_10397</td>\n",
       "      <td>3</td>\n",
       "      <td>1</td>\n",
       "    </tr>\n",
       "  </tbody>\n",
       "</table>\n",
       "</div>"
      ],
      "text/plain": [
       "          client  broker_account  strategy\n",
       "242   User_10219              22         1\n",
       "9235   User_8944               8         1\n",
       "2198  User_13407               5         1\n",
       "8025   User_7115               5         1\n",
       "402   User_10397               3         1"
      ]
     },
     "execution_count": 57,
     "metadata": {},
     "output_type": "execute_result"
    }
   ],
   "source": [
    "(\n",
    "    df.groupby('client')[['broker_account', 'strategy']].agg('nunique')\n",
    "    .reset_index()\n",
    "    .query('strategy == 1')\n",
    "    .sort_values(by='broker_account', ascending=False).head(5)\n",
    ")"
   ]
  },
  {
   "cell_type": "markdown",
   "id": "c2cfd138",
   "metadata": {},
   "source": [
    "Явно выбивающаяся из общей картины аномалия с большим числом счетов для одной стратегии только одна."
   ]
  },
  {
   "cell_type": "markdown",
   "id": "53f730bd",
   "metadata": {},
   "source": [
    "## **Выводы**"
   ]
  },
  {
   "cell_type": "markdown",
   "id": "a3fb2d97",
   "metadata": {},
   "source": [
    "**Кейс для юридического отдела**\n",
    "\n",
    "В датасете обнаружен один несовершеннолетний клиент, которому на момент активности со стратегиями было 5 лет. Это User_6066. Указанная в системе дата рождения - 7 апреля 2015 года. Кейс должен быть изучен юристами, поскольку тут возникает вопрос юридической чистоты сделок.\n",
    "\n",
    "**Кейс для разработчиков**\n",
    "\n",
    "4 мая 2020 года в системе зафиксировано что-то похожее на баг: один и тот же клиент User_2111 открыл и закрыл сразу 33 стратегии на один и тот же брокерский счет. Открытия всех 33 стратегий совпадают по времени до секунды. Время закрытия также совпадает до секунды. Вопрос стоит изучить разработчикам, поскольку 33 стратегии были оформлены на один и тот же счет одновременно, что технически должно быть невозможно. \n",
    "\n",
    "**Кейс для отдела маркетинга**\n",
    "\n",
    "7 декабря 2020 г. наблюдался аномальный скачок по кол-ву клиентов, начавших и завершивших стратегии. Как выяснилось, основная «активность» в этот день была связана с двумя стратегиями: 399 клиентов закрыли стратегию 258 и открыли стратегию 237. Закрытие и открытие стратегий произошло у всех в одно и то же время с точностью до секунды, т.е. произошел автоматический «перевод» клиентов с одной стратегии на другую.\n",
    "3 декабря 2020 г. наблюдалась схожая ситуация, только она касалась исключительно начавшихся стратегий: 257 клиентов одновременно (в точностью до секунды) присоединилась к стратегии 241. \n",
    "Возможно, такая аномальная активность была связана с какими-либо рекламными акциями или это был запланированный перевод клиентов с одной стратегии на другую в связи с окончанием действия какой-либо стратегии – в любом случае отделу маркетинга стоит проверить причину такой аномалии.\n",
    "\n",
    "**Кейс для отдела безопасности**\n",
    "\n",
    "У User_10219 открыто сразу 22 счета под одну стратегию, причем с некоторых счетов привязка к стратегии осуществляется параллельно по времени. Можно заподозрить, что деньги из разных источников разложены по \"разным кошелькам\" под одним аккаунтом – возможно, отделу безопасности стоит проверить этого клиента на тему возможного отмывания средств или другой подозрительной деятельности.\n"
   ]
  },
  {
   "cell_type": "code",
   "execution_count": null,
   "id": "d450bc73",
   "metadata": {},
   "outputs": [],
   "source": []
  }
 ],
 "metadata": {
  "kernelspec": {
   "display_name": "Python 3 (ipykernel)",
   "language": "python",
   "name": "python3"
  },
  "language_info": {
   "codemirror_mode": {
    "name": "ipython",
    "version": 3
   },
   "file_extension": ".py",
   "mimetype": "text/x-python",
   "name": "python",
   "nbconvert_exporter": "python",
   "pygments_lexer": "ipython3",
   "version": "3.9.12"
  }
 },
 "nbformat": 4,
 "nbformat_minor": 5
}
